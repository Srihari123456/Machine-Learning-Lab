{
  "nbformat": 4,
  "nbformat_minor": 0,
  "metadata": {
    "colab": {
      "name": "SVM-CerealDataset.ipynb",
      "provenance": []
    },
    "kernelspec": {
      "name": "python3",
      "display_name": "Python 3"
    },
    "accelerator": "TPU"
  },
  "cells": [
    {
      "cell_type": "code",
      "metadata": {
        "id": "ZikYbdtl71Kq",
        "colab": {
          "base_uri": "https://localhost:8080/",
          "height": 212
        },
        "outputId": "62b84892-7657-4bfe-f747-891695ef01b6"
      },
      "source": [
        "import numpy as np\n",
        "import pandas as pd\n",
        "import matplotlib.pyplot as plt\n",
        "import seaborn as sns\n",
        "from sklearn import linear_model\n",
        "from sklearn.model_selection import train_test_split\n",
        "import gc\n",
        "import cv2\n",
        "# read the dataset\n",
        "digits = pd.read_csv('/content/cereal - Copy.csv',sep=\";\")\n",
        "digits.head()"
      ],
      "execution_count": null,
      "outputs": [
        {
          "output_type": "execute_result",
          "data": {
            "text/html": [
              "<div>\n",
              "<style scoped>\n",
              "    .dataframe tbody tr th:only-of-type {\n",
              "        vertical-align: middle;\n",
              "    }\n",
              "\n",
              "    .dataframe tbody tr th {\n",
              "        vertical-align: top;\n",
              "    }\n",
              "\n",
              "    .dataframe thead th {\n",
              "        text-align: right;\n",
              "    }\n",
              "</style>\n",
              "<table border=\"1\" class=\"dataframe\">\n",
              "  <thead>\n",
              "    <tr style=\"text-align: right;\">\n",
              "      <th></th>\n",
              "      <th>name</th>\n",
              "      <th>mfr</th>\n",
              "      <th>type</th>\n",
              "      <th>calories</th>\n",
              "      <th>protein</th>\n",
              "      <th>fat</th>\n",
              "      <th>sodium</th>\n",
              "      <th>fiber</th>\n",
              "      <th>carbo</th>\n",
              "      <th>sugars</th>\n",
              "      <th>potass</th>\n",
              "      <th>vitamins</th>\n",
              "      <th>shelf</th>\n",
              "      <th>weight</th>\n",
              "      <th>cups</th>\n",
              "      <th>rating</th>\n",
              "    </tr>\n",
              "  </thead>\n",
              "  <tbody>\n",
              "    <tr>\n",
              "      <th>0</th>\n",
              "      <td>String</td>\n",
              "      <td>Categorical</td>\n",
              "      <td>Categorical</td>\n",
              "      <td>Int</td>\n",
              "      <td>Int</td>\n",
              "      <td>Int</td>\n",
              "      <td>Int</td>\n",
              "      <td>Float</td>\n",
              "      <td>Float</td>\n",
              "      <td>Int</td>\n",
              "      <td>Int</td>\n",
              "      <td>Int</td>\n",
              "      <td>Int</td>\n",
              "      <td>Float</td>\n",
              "      <td>Float</td>\n",
              "      <td>Float</td>\n",
              "    </tr>\n",
              "    <tr>\n",
              "      <th>1</th>\n",
              "      <td>100% Bran</td>\n",
              "      <td>N</td>\n",
              "      <td>C</td>\n",
              "      <td>70</td>\n",
              "      <td>4</td>\n",
              "      <td>1</td>\n",
              "      <td>130</td>\n",
              "      <td>10</td>\n",
              "      <td>5</td>\n",
              "      <td>6</td>\n",
              "      <td>280</td>\n",
              "      <td>25</td>\n",
              "      <td>3</td>\n",
              "      <td>1</td>\n",
              "      <td>0.33</td>\n",
              "      <td>68.402973</td>\n",
              "    </tr>\n",
              "    <tr>\n",
              "      <th>2</th>\n",
              "      <td>100% Natural Bran</td>\n",
              "      <td>Q</td>\n",
              "      <td>C</td>\n",
              "      <td>120</td>\n",
              "      <td>3</td>\n",
              "      <td>5</td>\n",
              "      <td>15</td>\n",
              "      <td>2</td>\n",
              "      <td>8</td>\n",
              "      <td>8</td>\n",
              "      <td>135</td>\n",
              "      <td>0</td>\n",
              "      <td>3</td>\n",
              "      <td>1</td>\n",
              "      <td>1</td>\n",
              "      <td>33.983679</td>\n",
              "    </tr>\n",
              "    <tr>\n",
              "      <th>3</th>\n",
              "      <td>All-Bran</td>\n",
              "      <td>K</td>\n",
              "      <td>C</td>\n",
              "      <td>70</td>\n",
              "      <td>4</td>\n",
              "      <td>1</td>\n",
              "      <td>260</td>\n",
              "      <td>9</td>\n",
              "      <td>7</td>\n",
              "      <td>5</td>\n",
              "      <td>320</td>\n",
              "      <td>25</td>\n",
              "      <td>3</td>\n",
              "      <td>1</td>\n",
              "      <td>0.33</td>\n",
              "      <td>59.425505</td>\n",
              "    </tr>\n",
              "    <tr>\n",
              "      <th>4</th>\n",
              "      <td>All-Bran with Extra Fiber</td>\n",
              "      <td>K</td>\n",
              "      <td>C</td>\n",
              "      <td>50</td>\n",
              "      <td>4</td>\n",
              "      <td>0</td>\n",
              "      <td>140</td>\n",
              "      <td>14</td>\n",
              "      <td>8</td>\n",
              "      <td>0</td>\n",
              "      <td>330</td>\n",
              "      <td>25</td>\n",
              "      <td>3</td>\n",
              "      <td>1</td>\n",
              "      <td>0.5</td>\n",
              "      <td>93.704912</td>\n",
              "    </tr>\n",
              "  </tbody>\n",
              "</table>\n",
              "</div>"
            ],
            "text/plain": [
              "                        name          mfr         type  ... weight   cups     rating\n",
              "0                     String  Categorical  Categorical  ...  Float  Float      Float\n",
              "1                  100% Bran            N            C  ...      1   0.33  68.402973\n",
              "2          100% Natural Bran            Q            C  ...      1      1  33.983679\n",
              "3                   All-Bran            K            C  ...      1   0.33  59.425505\n",
              "4  All-Bran with Extra Fiber            K            C  ...      1    0.5  93.704912\n",
              "\n",
              "[5 rows x 16 columns]"
            ]
          },
          "metadata": {
            "tags": []
          },
          "execution_count": 22
        }
      ]
    },
    {
      "cell_type": "code",
      "metadata": {
        "colab": {
          "base_uri": "https://localhost:8080/"
        },
        "id": "eiYK4oojhvh0",
        "outputId": "bf0256b3-7828-41ef-8718-69854f85d2bc"
      },
      "source": [
        "X = digits.iloc[1:, 3:]\n",
        "Y = digits.iloc[1:, 2]\n",
        "\n",
        "# Rescaling the features\n",
        "from sklearn.preprocessing import scale\n",
        "X = scale(X)\n",
        "\n",
        "# train test split with train_size=10% and test size=90%\n",
        "x_train, x_test, y_train, y_test = train_test_split(X, Y, train_size=0.5, random_state=101)\n",
        "print(x_train.shape)\n",
        "print(x_test.shape)\n",
        "print(y_train.shape)\n",
        "print(y_test.shape)"
      ],
      "execution_count": null,
      "outputs": [
        {
          "output_type": "stream",
          "text": [
            "(48, 13)\n",
            "(48, 13)\n",
            "(48,)\n",
            "(48,)\n"
          ],
          "name": "stdout"
        }
      ]
    },
    {
      "cell_type": "code",
      "metadata": {
        "colab": {
          "base_uri": "https://localhost:8080/"
        },
        "id": "Kg1q4WeHh1od",
        "outputId": "c31041fd-f041-4b26-98ca-285fac49c636"
      },
      "source": [
        "from sklearn import svm\n",
        "from sklearn import metrics\n",
        "svm_linear = svm.SVC(kernel='linear')\n",
        "svm_linear.fit(x_train, y_train)"
      ],
      "execution_count": null,
      "outputs": [
        {
          "output_type": "execute_result",
          "data": {
            "text/plain": [
              "SVC(C=1.0, break_ties=False, cache_size=200, class_weight=None, coef0=0.0,\n",
              "    decision_function_shape='ovr', degree=3, gamma='scale', kernel='linear',\n",
              "    max_iter=-1, probability=False, random_state=None, shrinking=True,\n",
              "    tol=0.001, verbose=False)"
            ]
          },
          "metadata": {
            "tags": []
          },
          "execution_count": 24
        }
      ]
    },
    {
      "cell_type": "code",
      "metadata": {
        "colab": {
          "base_uri": "https://localhost:8080/"
        },
        "id": "7ueFz-Iqh5Sm",
        "outputId": "1c74dd46-92c6-4199-fd18-7019feb8b8b7"
      },
      "source": [
        "predictions = svm_linear.predict(x_test)\n",
        "predictions"
      ],
      "execution_count": null,
      "outputs": [
        {
          "output_type": "execute_result",
          "data": {
            "text/plain": [
              "array(['C', 'C', 'C', 'C', 'C', 'C', 'H', 'C', 'C', 'C', 'C', 'H', 'C',\n",
              "       'C', 'H', 'H', 'C', 'C', 'C', 'H', 'C', 'C', 'C', 'H', 'C', 'C',\n",
              "       'C', 'C', 'H', 'C', 'H', 'H', 'H', 'H', 'H', 'H', 'C', 'H', 'C',\n",
              "       'H', 'H', 'H', 'C', 'C', 'C', 'C', 'C', 'C'], dtype=object)"
            ]
          },
          "metadata": {
            "tags": []
          },
          "execution_count": 25
        }
      ]
    },
    {
      "cell_type": "code",
      "metadata": {
        "colab": {
          "base_uri": "https://localhost:8080/"
        },
        "id": "qo0eUaYjh8r6",
        "outputId": "9e95cc2c-ad42-4074-a625-8834bc81b5d0"
      },
      "source": [
        "confusion = metrics.confusion_matrix(y_true = y_test, y_pred = predictions)\n",
        "confusion"
      ],
      "execution_count": null,
      "outputs": [
        {
          "output_type": "execute_result",
          "data": {
            "text/plain": [
              "array([[31,  3],\n",
              "       [ 0, 14]])"
            ]
          },
          "metadata": {
            "tags": []
          },
          "execution_count": 26
        }
      ]
    },
    {
      "cell_type": "code",
      "metadata": {
        "colab": {
          "base_uri": "https://localhost:8080/"
        },
        "id": "K5cN7tSpiATk",
        "outputId": "aaa5ab02-f924-4aa7-8116-b926181fd365"
      },
      "source": [
        "metrics.accuracy_score(y_true=y_test, y_pred=predictions)"
      ],
      "execution_count": null,
      "outputs": [
        {
          "output_type": "execute_result",
          "data": {
            "text/plain": [
              "0.9375"
            ]
          },
          "metadata": {
            "tags": []
          },
          "execution_count": 27
        }
      ]
    },
    {
      "cell_type": "code",
      "metadata": {
        "colab": {
          "base_uri": "https://localhost:8080/"
        },
        "id": "hH7uInHWiDUg",
        "outputId": "b6076993-d4a8-4628-9d2f-3047f16c5c6f"
      },
      "source": [
        "class_wise = metrics.classification_report(y_true=y_test, y_pred=predictions)\n",
        "print(class_wise)"
      ],
      "execution_count": null,
      "outputs": [
        {
          "output_type": "stream",
          "text": [
            "              precision    recall  f1-score   support\n",
            "\n",
            "           C       1.00      0.91      0.95        34\n",
            "           H       0.82      1.00      0.90        14\n",
            "\n",
            "    accuracy                           0.94        48\n",
            "   macro avg       0.91      0.96      0.93        48\n",
            "weighted avg       0.95      0.94      0.94        48\n",
            "\n"
          ],
          "name": "stdout"
        }
      ]
    },
    {
      "cell_type": "markdown",
      "metadata": {
        "id": "yvBK7ur2iKvY"
      },
      "source": [
        "### NON LINEAR KERNEL"
      ]
    },
    {
      "cell_type": "code",
      "metadata": {
        "colab": {
          "base_uri": "https://localhost:8080/"
        },
        "id": "ii5pkpzeiGKE",
        "outputId": "19ab7996-b604-49ac-83c7-389d939b6c8e"
      },
      "source": [
        "# rbf kernel with other hyperparameters kept to default \n",
        "svm_rbf = svm.SVC(kernel='rbf')\n",
        "svm_rbf.fit(x_train, y_train)"
      ],
      "execution_count": null,
      "outputs": [
        {
          "output_type": "execute_result",
          "data": {
            "text/plain": [
              "SVC(C=1.0, break_ties=False, cache_size=200, class_weight=None, coef0=0.0,\n",
              "    decision_function_shape='ovr', degree=3, gamma='scale', kernel='rbf',\n",
              "    max_iter=-1, probability=False, random_state=None, shrinking=True,\n",
              "    tol=0.001, verbose=False)"
            ]
          },
          "metadata": {
            "tags": []
          },
          "execution_count": 29
        }
      ]
    },
    {
      "cell_type": "code",
      "metadata": {
        "colab": {
          "base_uri": "https://localhost:8080/"
        },
        "id": "G85CCkrDiP4T",
        "outputId": "42117f8b-76fb-45dd-fc10-7c3af5e7d5c4"
      },
      "source": [
        "# predict\n",
        "predictions = svm_rbf.predict(x_test)\n",
        "# accuracy \n",
        "print(metrics.accuracy_score(y_true=y_test, y_pred=predictions))"
      ],
      "execution_count": null,
      "outputs": [
        {
          "output_type": "stream",
          "text": [
            "0.9791666666666666\n"
          ],
          "name": "stdout"
        }
      ]
    },
    {
      "cell_type": "code",
      "metadata": {
        "colab": {
          "base_uri": "https://localhost:8080/"
        },
        "id": "JJRgwekhiT1W",
        "outputId": "303a459f-cc72-41d1-c334-47adeeb3a480"
      },
      "source": [
        "class_wise = metrics.classification_report(y_true=y_test, y_pred=predictions)\n",
        "print(class_wise)"
      ],
      "execution_count": null,
      "outputs": [
        {
          "output_type": "stream",
          "text": [
            "              precision    recall  f1-score   support\n",
            "\n",
            "           C       0.97      1.00      0.99        34\n",
            "           H       1.00      0.93      0.96        14\n",
            "\n",
            "    accuracy                           0.98        48\n",
            "   macro avg       0.99      0.96      0.97        48\n",
            "weighted avg       0.98      0.98      0.98        48\n",
            "\n"
          ],
          "name": "stdout"
        }
      ]
    },
    {
      "cell_type": "code",
      "metadata": {
        "colab": {
          "base_uri": "https://localhost:8080/"
        },
        "id": "iAaFZwPxiXBN",
        "outputId": "ebf55ef1-ea01-40f6-f214-0f077aa879c4"
      },
      "source": [
        "from sklearn.model_selection import GridSearchCV\n",
        "\n",
        "parameters = {'C':[1, 10, 100], \n",
        "             'gamma': [1e-2, 1e-3, 1e-4]}\n",
        "\n",
        "# instantiate a model \n",
        "svc_grid_search = svm.SVC(kernel=\"rbf\")\n",
        "\n",
        "# create a classifier to perform grid search\n",
        "clf = GridSearchCV(svc_grid_search, param_grid=parameters,return_train_score=True, scoring='accuracy')\n",
        "\n",
        "# fit\n",
        "clf.fit(x_train, y_train)"
      ],
      "execution_count": null,
      "outputs": [
        {
          "output_type": "execute_result",
          "data": {
            "text/plain": [
              "GridSearchCV(cv=None, error_score=nan,\n",
              "             estimator=SVC(C=1.0, break_ties=False, cache_size=200,\n",
              "                           class_weight=None, coef0=0.0,\n",
              "                           decision_function_shape='ovr', degree=3,\n",
              "                           gamma='scale', kernel='rbf', max_iter=-1,\n",
              "                           probability=False, random_state=None, shrinking=True,\n",
              "                           tol=0.001, verbose=False),\n",
              "             iid='deprecated', n_jobs=None,\n",
              "             param_grid={'C': [1, 10, 100], 'gamma': [0.01, 0.001, 0.0001]},\n",
              "             pre_dispatch='2*n_jobs', refit=True, return_train_score=True,\n",
              "             scoring='accuracy', verbose=0)"
            ]
          },
          "metadata": {
            "tags": []
          },
          "execution_count": 32
        }
      ]
    },
    {
      "cell_type": "code",
      "metadata": {
        "colab": {
          "base_uri": "https://localhost:8080/",
          "height": 636
        },
        "id": "2vO3E96HicLD",
        "outputId": "df53e9e9-b459-42b4-b13a-50217da319ec"
      },
      "source": [
        "cv_results = pd.DataFrame(clf.cv_results_)\n",
        "cv_results"
      ],
      "execution_count": null,
      "outputs": [
        {
          "output_type": "execute_result",
          "data": {
            "text/html": [
              "<div>\n",
              "<style scoped>\n",
              "    .dataframe tbody tr th:only-of-type {\n",
              "        vertical-align: middle;\n",
              "    }\n",
              "\n",
              "    .dataframe tbody tr th {\n",
              "        vertical-align: top;\n",
              "    }\n",
              "\n",
              "    .dataframe thead th {\n",
              "        text-align: right;\n",
              "    }\n",
              "</style>\n",
              "<table border=\"1\" class=\"dataframe\">\n",
              "  <thead>\n",
              "    <tr style=\"text-align: right;\">\n",
              "      <th></th>\n",
              "      <th>mean_fit_time</th>\n",
              "      <th>std_fit_time</th>\n",
              "      <th>mean_score_time</th>\n",
              "      <th>std_score_time</th>\n",
              "      <th>param_C</th>\n",
              "      <th>param_gamma</th>\n",
              "      <th>params</th>\n",
              "      <th>split0_test_score</th>\n",
              "      <th>split1_test_score</th>\n",
              "      <th>split2_test_score</th>\n",
              "      <th>split3_test_score</th>\n",
              "      <th>split4_test_score</th>\n",
              "      <th>mean_test_score</th>\n",
              "      <th>std_test_score</th>\n",
              "      <th>rank_test_score</th>\n",
              "      <th>split0_train_score</th>\n",
              "      <th>split1_train_score</th>\n",
              "      <th>split2_train_score</th>\n",
              "      <th>split3_train_score</th>\n",
              "      <th>split4_train_score</th>\n",
              "      <th>mean_train_score</th>\n",
              "      <th>std_train_score</th>\n",
              "    </tr>\n",
              "  </thead>\n",
              "  <tbody>\n",
              "    <tr>\n",
              "      <th>0</th>\n",
              "      <td>0.000795</td>\n",
              "      <td>0.000225</td>\n",
              "      <td>0.000443</td>\n",
              "      <td>0.000133</td>\n",
              "      <td>1</td>\n",
              "      <td>0.01</td>\n",
              "      <td>{'C': 1, 'gamma': 0.01}</td>\n",
              "      <td>0.8</td>\n",
              "      <td>0.9</td>\n",
              "      <td>0.9</td>\n",
              "      <td>1.000000</td>\n",
              "      <td>1.000000</td>\n",
              "      <td>0.920000</td>\n",
              "      <td>0.074833</td>\n",
              "      <td>4</td>\n",
              "      <td>0.842105</td>\n",
              "      <td>0.973684</td>\n",
              "      <td>0.973684</td>\n",
              "      <td>0.948718</td>\n",
              "      <td>0.948718</td>\n",
              "      <td>0.937382</td>\n",
              "      <td>0.048929</td>\n",
              "    </tr>\n",
              "    <tr>\n",
              "      <th>1</th>\n",
              "      <td>0.000677</td>\n",
              "      <td>0.000023</td>\n",
              "      <td>0.000454</td>\n",
              "      <td>0.000146</td>\n",
              "      <td>1</td>\n",
              "      <td>0.001</td>\n",
              "      <td>{'C': 1, 'gamma': 0.001}</td>\n",
              "      <td>0.8</td>\n",
              "      <td>0.8</td>\n",
              "      <td>0.8</td>\n",
              "      <td>0.888889</td>\n",
              "      <td>0.888889</td>\n",
              "      <td>0.835556</td>\n",
              "      <td>0.043546</td>\n",
              "      <td>7</td>\n",
              "      <td>0.842105</td>\n",
              "      <td>0.842105</td>\n",
              "      <td>0.842105</td>\n",
              "      <td>0.820513</td>\n",
              "      <td>0.820513</td>\n",
              "      <td>0.833468</td>\n",
              "      <td>0.010578</td>\n",
              "    </tr>\n",
              "    <tr>\n",
              "      <th>2</th>\n",
              "      <td>0.000678</td>\n",
              "      <td>0.000048</td>\n",
              "      <td>0.000441</td>\n",
              "      <td>0.000085</td>\n",
              "      <td>1</td>\n",
              "      <td>0.0001</td>\n",
              "      <td>{'C': 1, 'gamma': 0.0001}</td>\n",
              "      <td>0.8</td>\n",
              "      <td>0.8</td>\n",
              "      <td>0.8</td>\n",
              "      <td>0.888889</td>\n",
              "      <td>0.888889</td>\n",
              "      <td>0.835556</td>\n",
              "      <td>0.043546</td>\n",
              "      <td>7</td>\n",
              "      <td>0.842105</td>\n",
              "      <td>0.842105</td>\n",
              "      <td>0.842105</td>\n",
              "      <td>0.820513</td>\n",
              "      <td>0.820513</td>\n",
              "      <td>0.833468</td>\n",
              "      <td>0.010578</td>\n",
              "    </tr>\n",
              "    <tr>\n",
              "      <th>3</th>\n",
              "      <td>0.000659</td>\n",
              "      <td>0.000018</td>\n",
              "      <td>0.000423</td>\n",
              "      <td>0.000037</td>\n",
              "      <td>10</td>\n",
              "      <td>0.01</td>\n",
              "      <td>{'C': 10, 'gamma': 0.01}</td>\n",
              "      <td>1.0</td>\n",
              "      <td>0.9</td>\n",
              "      <td>0.9</td>\n",
              "      <td>1.000000</td>\n",
              "      <td>1.000000</td>\n",
              "      <td>0.960000</td>\n",
              "      <td>0.048990</td>\n",
              "      <td>2</td>\n",
              "      <td>1.000000</td>\n",
              "      <td>0.973684</td>\n",
              "      <td>0.973684</td>\n",
              "      <td>1.000000</td>\n",
              "      <td>1.000000</td>\n",
              "      <td>0.989474</td>\n",
              "      <td>0.012892</td>\n",
              "    </tr>\n",
              "    <tr>\n",
              "      <th>4</th>\n",
              "      <td>0.000648</td>\n",
              "      <td>0.000012</td>\n",
              "      <td>0.000393</td>\n",
              "      <td>0.000020</td>\n",
              "      <td>10</td>\n",
              "      <td>0.001</td>\n",
              "      <td>{'C': 10, 'gamma': 0.001}</td>\n",
              "      <td>0.8</td>\n",
              "      <td>0.9</td>\n",
              "      <td>0.9</td>\n",
              "      <td>1.000000</td>\n",
              "      <td>1.000000</td>\n",
              "      <td>0.920000</td>\n",
              "      <td>0.074833</td>\n",
              "      <td>4</td>\n",
              "      <td>0.842105</td>\n",
              "      <td>0.973684</td>\n",
              "      <td>0.973684</td>\n",
              "      <td>0.948718</td>\n",
              "      <td>0.948718</td>\n",
              "      <td>0.937382</td>\n",
              "      <td>0.048929</td>\n",
              "    </tr>\n",
              "    <tr>\n",
              "      <th>5</th>\n",
              "      <td>0.000652</td>\n",
              "      <td>0.000023</td>\n",
              "      <td>0.000393</td>\n",
              "      <td>0.000024</td>\n",
              "      <td>10</td>\n",
              "      <td>0.0001</td>\n",
              "      <td>{'C': 10, 'gamma': 0.0001}</td>\n",
              "      <td>0.8</td>\n",
              "      <td>0.8</td>\n",
              "      <td>0.8</td>\n",
              "      <td>0.888889</td>\n",
              "      <td>0.888889</td>\n",
              "      <td>0.835556</td>\n",
              "      <td>0.043546</td>\n",
              "      <td>7</td>\n",
              "      <td>0.842105</td>\n",
              "      <td>0.842105</td>\n",
              "      <td>0.842105</td>\n",
              "      <td>0.820513</td>\n",
              "      <td>0.820513</td>\n",
              "      <td>0.833468</td>\n",
              "      <td>0.010578</td>\n",
              "    </tr>\n",
              "    <tr>\n",
              "      <th>6</th>\n",
              "      <td>0.000638</td>\n",
              "      <td>0.000030</td>\n",
              "      <td>0.000386</td>\n",
              "      <td>0.000033</td>\n",
              "      <td>100</td>\n",
              "      <td>0.01</td>\n",
              "      <td>{'C': 100, 'gamma': 0.01}</td>\n",
              "      <td>1.0</td>\n",
              "      <td>1.0</td>\n",
              "      <td>1.0</td>\n",
              "      <td>1.000000</td>\n",
              "      <td>1.000000</td>\n",
              "      <td>1.000000</td>\n",
              "      <td>0.000000</td>\n",
              "      <td>1</td>\n",
              "      <td>1.000000</td>\n",
              "      <td>1.000000</td>\n",
              "      <td>1.000000</td>\n",
              "      <td>1.000000</td>\n",
              "      <td>1.000000</td>\n",
              "      <td>1.000000</td>\n",
              "      <td>0.000000</td>\n",
              "    </tr>\n",
              "    <tr>\n",
              "      <th>7</th>\n",
              "      <td>0.000645</td>\n",
              "      <td>0.000050</td>\n",
              "      <td>0.000400</td>\n",
              "      <td>0.000030</td>\n",
              "      <td>100</td>\n",
              "      <td>0.001</td>\n",
              "      <td>{'C': 100, 'gamma': 0.001}</td>\n",
              "      <td>1.0</td>\n",
              "      <td>0.9</td>\n",
              "      <td>0.9</td>\n",
              "      <td>1.000000</td>\n",
              "      <td>1.000000</td>\n",
              "      <td>0.960000</td>\n",
              "      <td>0.048990</td>\n",
              "      <td>2</td>\n",
              "      <td>1.000000</td>\n",
              "      <td>0.973684</td>\n",
              "      <td>0.973684</td>\n",
              "      <td>1.000000</td>\n",
              "      <td>1.000000</td>\n",
              "      <td>0.989474</td>\n",
              "      <td>0.012892</td>\n",
              "    </tr>\n",
              "    <tr>\n",
              "      <th>8</th>\n",
              "      <td>0.000703</td>\n",
              "      <td>0.000087</td>\n",
              "      <td>0.000440</td>\n",
              "      <td>0.000073</td>\n",
              "      <td>100</td>\n",
              "      <td>0.0001</td>\n",
              "      <td>{'C': 100, 'gamma': 0.0001}</td>\n",
              "      <td>0.8</td>\n",
              "      <td>0.9</td>\n",
              "      <td>0.9</td>\n",
              "      <td>1.000000</td>\n",
              "      <td>1.000000</td>\n",
              "      <td>0.920000</td>\n",
              "      <td>0.074833</td>\n",
              "      <td>4</td>\n",
              "      <td>0.842105</td>\n",
              "      <td>0.973684</td>\n",
              "      <td>0.973684</td>\n",
              "      <td>0.948718</td>\n",
              "      <td>0.948718</td>\n",
              "      <td>0.937382</td>\n",
              "      <td>0.048929</td>\n",
              "    </tr>\n",
              "  </tbody>\n",
              "</table>\n",
              "</div>"
            ],
            "text/plain": [
              "   mean_fit_time  std_fit_time  ...  mean_train_score  std_train_score\n",
              "0       0.000795      0.000225  ...          0.937382         0.048929\n",
              "1       0.000677      0.000023  ...          0.833468         0.010578\n",
              "2       0.000678      0.000048  ...          0.833468         0.010578\n",
              "3       0.000659      0.000018  ...          0.989474         0.012892\n",
              "4       0.000648      0.000012  ...          0.937382         0.048929\n",
              "5       0.000652      0.000023  ...          0.833468         0.010578\n",
              "6       0.000638      0.000030  ...          1.000000         0.000000\n",
              "7       0.000645      0.000050  ...          0.989474         0.012892\n",
              "8       0.000703      0.000087  ...          0.937382         0.048929\n",
              "\n",
              "[9 rows x 22 columns]"
            ]
          },
          "metadata": {
            "tags": []
          },
          "execution_count": 33
        }
      ]
    },
    {
      "cell_type": "code",
      "metadata": {
        "colab": {
          "base_uri": "https://localhost:8080/",
          "height": 408
        },
        "id": "Dmz25V8Dkibj",
        "outputId": "2d20d7e8-a678-4711-81e6-684f743c4ce6"
      },
      "source": [
        "# converting C to numeric type for plotting on x-axis\n",
        "cv_results['param_C'] = cv_results['param_C'].astype('int')\n",
        "\n",
        "# # plotting\n",
        "plt.figure(figsize=(16,6))\n",
        "\n",
        "# subplot 1/3\n",
        "plt.subplot(131)\n",
        "gamma_01 = cv_results[cv_results['param_gamma']==0.01]\n",
        "\n",
        "plt.plot(gamma_01[\"param_C\"], gamma_01[\"mean_test_score\"])\n",
        "plt.plot(gamma_01[\"param_C\"], gamma_01[\"mean_train_score\"])\n",
        "plt.xlabel('C')\n",
        "plt.ylabel('Accuracy')\n",
        "plt.title(\"Gamma=0.01\")\n",
        "plt.ylim([0.60, 1])\n",
        "plt.legend(['test accuracy', 'train accuracy'], loc='lower right')\n",
        "plt.xscale('log')\n",
        "\n",
        "# subplot 2/3\n",
        "plt.subplot(132)\n",
        "gamma_001 = cv_results[cv_results['param_gamma']==0.001]\n",
        "\n",
        "plt.plot(gamma_001[\"param_C\"], gamma_001[\"mean_test_score\"])\n",
        "plt.plot(gamma_001[\"param_C\"], gamma_001[\"mean_train_score\"])\n",
        "plt.xlabel('C')\n",
        "plt.ylabel('Accuracy')\n",
        "plt.title(\"Gamma=0.001\")\n",
        "plt.ylim([0.60, 1])\n",
        "plt.legend(['test accuracy', 'train accuracy'], loc='lower right')\n",
        "plt.xscale('log')\n",
        "\n",
        "\n",
        "# subplot 3/3\n",
        "plt.subplot(133)\n",
        "gamma_0001 = cv_results[cv_results['param_gamma']==0.0001]\n",
        "\n",
        "plt.plot(gamma_0001[\"param_C\"], gamma_0001[\"mean_test_score\"])\n",
        "plt.plot(gamma_0001[\"param_C\"], gamma_0001[\"mean_train_score\"])\n",
        "plt.xlabel('C')\n",
        "plt.ylabel('Accuracy')\n",
        "plt.title(\"Gamma=0.0001\")\n",
        "plt.ylim([0.60, 1])\n",
        "plt.legend(['test accuracy', 'train accuracy'], loc='lower right')\n",
        "plt.xscale('log')\n",
        "\n",
        "plt.show()"
      ],
      "execution_count": null,
      "outputs": [
        {
          "output_type": "display_data",
          "data": {
            "image/png": "[encoded data removed]",
            "text/plain": [
              "<Figure size 1152x432 with 3 Axes>"
            ]
          },
          "metadata": {
            "tags": [],
            "needs_background": "light"
          }
        }
      ]
    },
    {
      "cell_type": "code",
      "metadata": {
        "colab": {
          "base_uri": "https://localhost:8080/"
        },
        "id": "ZnJgFSkGkn75",
        "outputId": "f0459457-46a4-41c2-97e1-24884de1ab9c"
      },
      "source": [
        "# optimal hyperparameters\n",
        "best_C = 100\n",
        "best_gamma = 0.001\n",
        "\n",
        "# model\n",
        "svm_final = svm.SVC(kernel='rbf', C=best_C, gamma=best_gamma)\n",
        "\n",
        "# fit\n",
        "svm_final.fit(x_train, y_train)"
      ],
      "execution_count": null,
      "outputs": [
        {
          "output_type": "execute_result",
          "data": {
            "text/plain": [
              "SVC(C=100, break_ties=False, cache_size=200, class_weight=None, coef0=0.0,\n",
              "    decision_function_shape='ovr', degree=3, gamma=0.001, kernel='rbf',\n",
              "    max_iter=-1, probability=False, random_state=None, shrinking=True,\n",
              "    tol=0.001, verbose=False)"
            ]
          },
          "metadata": {
            "tags": []
          },
          "execution_count": 62
        }
      ]
    },
    {
      "cell_type": "code",
      "metadata": {
        "id": "4O3m-6jClJ0e"
      },
      "source": [
        "# predict\n",
        "predictions = svm_final.predict(x_test)"
      ],
      "execution_count": null,
      "outputs": []
    },
    {
      "cell_type": "code",
      "metadata": {
        "colab": {
          "base_uri": "https://localhost:8080/"
        },
        "id": "m-RS-rbklNxK",
        "outputId": "ad0392a5-0185-439d-a448-c660c742eefc"
      },
      "source": [
        "# evaluation: CM \n",
        "confusion = metrics.confusion_matrix(y_true = y_test, y_pred = predictions)\n",
        "\n",
        "# measure accuracy\n",
        "test_accuracy = metrics.accuracy_score(y_true=y_test, y_pred=predictions)\n",
        "\n",
        "print(test_accuracy*100, \"%\\n\")\n",
        "print(confusion)\n"
      ],
      "execution_count": null,
      "outputs": [
        {
          "output_type": "stream",
          "text": [
            "91.66666666666666 %\n",
            "\n",
            "[[31  3]\n",
            " [ 1 13]]\n"
          ],
          "name": "stdout"
        }
      ]
    },
    {
      "cell_type": "code",
      "metadata": {
        "id": "-l5pkM0jlPgd"
      },
      "source": [
        ""
      ],
      "execution_count": null,
      "outputs": []
    }
  ]
}