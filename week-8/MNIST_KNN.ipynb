{
  "nbformat": 4,
  "nbformat_minor": 0,
  "metadata": {
    "colab": {
      "name": "KNN.ipynb",
      "provenance": []
    },
    "kernelspec": {
      "name": "python3",
      "display_name": "Python 3"
    },
    "language_info": {
      "name": "python"
    }
  },
  "cells": [
    {
      "cell_type": "code",
      "metadata": {
        "colab": {
          "base_uri": "https://localhost:8080/"
        },
        "id": "5sbt6N8kD2xj",
        "outputId": "fed4465f-f4b3-4dbb-afb0-52cee4049c15"
      },
      "source": [
        "import csv \n",
        "with open('/content/iris-data.csv') as csvfile:\n",
        "    lines = csv.reader(csvfile)\n",
        "    for row in lines:\n",
        "        print(','.join(row))\n"
      ],
      "execution_count": 5,
      "outputs": [
        {
          "output_type": "stream",
          "text": [
            "slength,swidth,plength,pwidth,class\n",
            "5.1,3.5,1.4,0.2,1\n",
            "4.9,3,1.4,0.2,1\n",
            "4.7,3.2,1.3,0.2,1\n",
            "4.6,3.1,1.5,0.2,1\n",
            "5,3.6,1.4,0.2,1\n",
            "5.4,3.9,1.7,0.4,1\n",
            "4.6,3.4,1.4,0.3,1\n",
            "5,3.4,1.5,0.2,1\n",
            "4.4,2.9,1.4,0.2,1\n",
            "4.9,3.1,1.5,0.1,1\n",
            "5.4,3.7,1.5,0.2,1\n",
            "4.8,3.4,1.6,0.2,1\n",
            "4.8,3,1.4,0.1,1\n",
            "4.3,3,1.1,0.1,1\n",
            "5.8,4,1.2,0.2,1\n",
            "5.7,4.4,1.5,0.4,1\n",
            "5.4,3.9,1.3,0.4,1\n",
            "5.1,3.5,1.4,0.3,1\n",
            "5.7,3.8,1.7,0.3,1\n",
            "5.1,3.8,1.5,0.3,1\n",
            "5.4,3.4,1.7,0.2,1\n",
            "5.1,3.7,1.5,0.4,1\n",
            "4.6,3.6,1,0.2,1\n",
            "5.1,3.3,1.7,0.5,1\n",
            "4.8,3.4,1.9,0.2,1\n",
            "5,3,1.6,0.2,1\n",
            "5,3.4,1.6,0.4,1\n",
            "5.2,3.5,1.5,0.2,1\n",
            "5.2,3.4,1.4,0.2,1\n",
            "4.7,3.2,1.6,0.2,1\n",
            "4.8,3.1,1.6,0.2,1\n",
            "5.4,3.4,1.5,0.4,1\n",
            "5.2,4.1,1.5,0.1,1\n",
            "5.5,4.2,1.4,0.2,1\n",
            "4.9,3.1,1.5,0.1,1\n",
            "5,3.2,1.2,0.2,1\n",
            "5.5,3.5,1.3,0.2,1\n",
            "4.9,3.1,1.5,0.1,1\n",
            "4.4,3,1.3,0.2,1\n",
            "5.1,3.4,1.5,0.2,1\n",
            "5,3.5,1.3,0.3,1\n",
            "4.5,2.3,1.3,0.3,1\n",
            "4.4,3.2,1.3,0.2,1\n",
            "5,3.5,1.6,0.6,1\n",
            "5.1,3.8,1.9,0.4,1\n",
            "4.8,3,1.4,0.3,1\n",
            "5.1,3.8,1.6,0.2,1\n",
            "4.6,3.2,1.4,0.2,1\n",
            "5.3,3.7,1.5,0.2,1\n",
            "5,3.3,1.4,0.2,1\n",
            "7,3.2,4.7,1.4,2\n",
            "6.4,3.2,4.5,1.5,2\n",
            "6.9,3.1,4.9,1.5,2\n",
            "5.5,2.3,4,1.3,2\n",
            "6.5,2.8,4.6,1.5,2\n",
            "5.7,2.8,4.5,1.3,2\n",
            "6.3,3.3,4.7,1.6,2\n",
            "4.9,2.4,3.3,1,2\n",
            "6.6,2.9,4.6,1.3,2\n",
            "5.2,2.7,3.9,1.4,2\n",
            "5,2,3.5,1,2\n",
            "5.9,3,4.2,1.5,2\n",
            "6,2.2,4,1,2\n",
            "6.1,2.9,4.7,1.4,2\n",
            "5.6,2.9,3.6,1.3,2\n",
            "6.7,3.1,4.4,1.4,2\n",
            "5.6,3,4.5,1.5,2\n",
            "5.8,2.7,4.1,1,2\n",
            "6.2,2.2,4.5,1.5,2\n",
            "5.6,2.5,3.9,1.1,2\n",
            "5.9,3.2,4.8,1.8,2\n",
            "6.1,2.8,4,1.3,2\n",
            "6.3,2.5,4.9,1.5,2\n",
            "6.1,2.8,4.7,1.2,2\n",
            "6.4,2.9,4.3,1.3,2\n",
            "6.6,3,4.4,1.4,2\n",
            "6.8,2.8,4.8,1.4,2\n",
            "6.7,3,5,1.7,2\n",
            "6,2.9,4.5,1.5,2\n",
            "5.7,2.6,3.5,1,2\n",
            "5.5,2.4,3.8,1.1,2\n",
            "5.5,2.4,3.7,1,2\n",
            "5.8,2.7,3.9,1.2,2\n",
            "6,2.7,5.1,1.6,2\n",
            "5.4,3,4.5,1.5,2\n",
            "6,3.4,4.5,1.6,2\n",
            "6.7,3.1,4.7,1.5,2\n",
            "6.3,2.3,4.4,1.3,2\n",
            "5.6,3,4.1,1.3,2\n",
            "5.5,2.5,4,1.3,2\n",
            "5.5,2.6,4.4,1.2,2\n",
            "6.1,3,4.6,1.4,2\n",
            "5.8,2.6,4,1.2,2\n",
            "5,2.3,3.3,1,2\n",
            "5.6,2.7,4.2,1.3,2\n",
            "5.7,3,4.2,1.2,2\n",
            "5.7,2.9,4.2,1.3,2\n",
            "6.2,2.9,4.3,1.3,2\n",
            "5.1,2.5,3,1.1,2\n",
            "5.7,2.8,4.1,1.3,2\n",
            "6.3,3.3,6,2.5,3\n",
            "5.8,2.7,5.1,1.9,3\n",
            "7.1,3,5.9,2.1,3\n",
            "6.3,2.9,5.6,1.8,3\n",
            "6.5,3,5.8,2.2,3\n",
            "7.6,3,6.6,2.1,3\n",
            "4.9,2.5,4.5,1.7,3\n",
            "7.3,2.9,6.3,1.8,3\n",
            "6.7,2.5,5.8,1.8,3\n",
            "7.2,3.6,6.1,2.5,3\n",
            "6.5,3.2,5.1,2,3\n",
            "6.4,2.7,5.3,1.9,3\n",
            "6.8,3,5.5,2.1,3\n",
            "5.7,2.5,5,2,3\n",
            "5.8,2.8,5.1,2.4,3\n",
            "6.4,3.2,5.3,2.3,3\n",
            "6.5,3,5.5,1.8,3\n",
            "7.7,3.8,6.7,2.2,3\n",
            "7.7,2.6,6.9,2.3,3\n",
            "6,2.2,5,1.5,3\n",
            "6.9,3.2,5.7,2.3,3\n",
            "5.6,2.8,4.9,2,3\n",
            "7.7,2.8,6.7,2,3\n",
            "6.3,2.7,4.9,1.8,3\n",
            "6.7,3.3,5.7,2.1,3\n",
            "7.2,3.2,6,1.8,3\n",
            "6.2,2.8,4.8,1.8,3\n",
            "6.1,3,4.9,1.8,3\n",
            "6.4,2.8,5.6,2.1,3\n",
            "7.2,3,5.8,1.6,3\n",
            "7.4,2.8,6.1,1.9,3\n",
            "7.9,3.8,6.4,2,3\n",
            "6.4,2.8,5.6,2.2,3\n",
            "6.3,2.8,5.1,1.5,3\n",
            "6.1,2.6,5.6,1.4,3\n",
            "7.7,3,6.1,2.3,3\n",
            "6.3,3.4,5.6,2.4,3\n",
            "6.4,3.1,5.5,1.8,3\n",
            "6,3,4.8,1.8,3\n",
            "6.9,3.1,5.4,2.1,3\n",
            "6.7,3.1,5.6,2.4,3\n",
            "6.9,3.1,5.1,2.3,3\n",
            "5.8,2.7,5.1,1.9,3\n",
            "6.8,3.2,5.9,2.3,3\n",
            "6.7,3.3,5.7,2.5,3\n",
            "6.7,3,5.2,2.3,3\n",
            "6.3,2.5,5,1.9,3\n",
            "6.5,3,5.2,2,3\n",
            "6.2,3.4,5.4,2.3,3\n",
            "5.9,3,5.1,1.8,3\n"
          ],
          "name": "stdout"
        }
      ]
    },
    {
      "cell_type": "code",
      "metadata": {
        "id": "raxxJ7M8Ek15"
      },
      "source": [
        "import csv\n",
        "import random\n",
        "def loadDataset(filename, split, trainingset = [], testset = []):\n",
        "    with open(filename,'r') as csvfile:\n",
        "        lines = csv.reader(csvfile)\n",
        "        dataset = list(lines)\n",
        "        for x in range(1,len(dataset)-1):\n",
        "            for y in range(4):\n",
        "                dataset[x][y] = float(dataset[x][y])\n",
        "            if random.random() < split:\n",
        "                trainingset.append(dataset[x])\n",
        "            else:\n",
        "                testset.append(dataset[x])"
      ],
      "execution_count": 6,
      "outputs": []
    },
    {
      "cell_type": "code",
      "metadata": {
        "colab": {
          "base_uri": "https://localhost:8080/"
        },
        "id": "5TzdzgufFheA",
        "outputId": "e36da37f-9e10-4e7d-d7eb-f2b383caf5aa"
      },
      "source": [
        "trainingset = []\n",
        "testset = []\n",
        "loadDataset('/content/iris-data.csv',0.66,trainingset,testset)\n",
        "print(\"train \"+repr(len(trainingset)))\n",
        "print(\"test \"+repr(len(testset)))"
      ],
      "execution_count": 7,
      "outputs": [
        {
          "output_type": "stream",
          "text": [
            "train 91\n",
            "test 58\n"
          ],
          "name": "stdout"
        }
      ]
    },
    {
      "cell_type": "code",
      "metadata": {
        "id": "mTdkvuAXF6eM"
      },
      "source": [
        "import math\n",
        "def euclideandistance(instance1,instance2,length):\n",
        "    distance = 0\n",
        "    for x in range(length):\n",
        "        distance += pow((instance1[x]-instance2[x]),2)\n",
        "    return math.sqrt(distance)"
      ],
      "execution_count": 8,
      "outputs": []
    },
    {
      "cell_type": "code",
      "metadata": {
        "id": "i9tsEUIBHrX0"
      },
      "source": [
        "import operator\n",
        "def getNeighbours(trainingset,testinstance,k):\n",
        "    distances = []\n",
        "    length = len(testinstance)-1\n",
        "    for x in range(len(trainingset)):\n",
        "        dist = euclideandistance(testinstance, trainingset[x],length)\n",
        "        distances.append((trainingset[x],dist))\n",
        "    distances.sort(key=operator.itemgetter(1))\n",
        "    neighbours = []\n",
        "    for x in range(k):\n",
        "        neighbours.append(distances[x][0])\n",
        "    return neighbours"
      ],
      "execution_count": 9,
      "outputs": []
    },
    {
      "cell_type": "code",
      "metadata": {
        "id": "z-xDKIE1JI3U"
      },
      "source": [
        "import operator\n",
        "def getResponse(neighbours):\n",
        "    classvotes = {}\n",
        "    for x in range(len(neighbours)):\n",
        "        response = neighbours[x][-1]\n",
        "        if response in classvotes:\n",
        "            classvotes[response] += 1\n",
        "        else:\n",
        "            classvotes[response] = 1\n",
        "    sortedvotes = sorted(classvotes.items(),key = operator.itemgetter(1),reverse = True)\n",
        "    return sortedvotes[0][0]"
      ],
      "execution_count": 15,
      "outputs": []
    },
    {
      "cell_type": "code",
      "metadata": {
        "id": "9kBmUCOTLxaQ"
      },
      "source": [
        "def getAccuracy(testset, predictions):\n",
        "    correct = 0\n",
        "    for x in range(len(testset)):\n",
        "        if testset[x][-1] == predictions[x]:\n",
        "            correct= correct + 1\n",
        "            #print(\"Srihari\",correct)\n",
        "    return (correct/float(len(testset)))*100.0"
      ],
      "execution_count": 41,
      "outputs": []
    },
    {
      "cell_type": "code",
      "metadata": {
        "id": "7dVcX78ZSbX2"
      },
      "source": [
        "from sklearn.metrics import accuracy_score"
      ],
      "execution_count": 42,
      "outputs": []
    },
    {
      "cell_type": "code",
      "metadata": {
        "id": "cxYY5mK8MUQa"
      },
      "source": [
        "def main():\n",
        "    trainingset = []\n",
        "    testset = []\n",
        "    split = 0.67\n",
        "    loadDataset('/content/iris-data.csv',split,trainingset,testset)\n",
        "    print(\"train \"+repr(len(trainingset)))\n",
        "    print(\"test \"+repr(len(testset)))\n",
        "    predictions = []\n",
        "    k = 3\n",
        "    for x in range(len(testset)):\n",
        "        neighbours = getNeighbours(trainingset,testset[x],k)\n",
        "        result = getResponse(neighbours)\n",
        "        predictions.append(result)\n",
        "        print(\"Predicted = \"+repr(result)+' actual = '+repr(testset[x][-1]))\n",
        "    accuracy = getAccuracy(testset, predictions)\n",
        "    print(\"accuracy = \",repr(accuracy),\"%\")\n",
        "    "
      ],
      "execution_count": 43,
      "outputs": []
    },
    {
      "cell_type": "code",
      "metadata": {
        "colab": {
          "base_uri": "https://localhost:8080/"
        },
        "id": "Kn6ZxXEsNfjf",
        "outputId": "ea0ae117-b0e5-476b-d008-18385ed3b847"
      },
      "source": [
        "main()"
      ],
      "execution_count": 44,
      "outputs": [
        {
          "output_type": "stream",
          "text": [
            "train 105\n",
            "test 44\n",
            "Predicted = '1' actual = '1'\n",
            "Predicted = '1' actual = '1'\n",
            "Predicted = '1' actual = '1'\n",
            "Predicted = '1' actual = '1'\n",
            "Predicted = '1' actual = '1'\n",
            "Predicted = '1' actual = '1'\n",
            "Predicted = '1' actual = '1'\n",
            "Predicted = '1' actual = '1'\n",
            "Predicted = '1' actual = '1'\n",
            "Predicted = '1' actual = '1'\n",
            "Predicted = '1' actual = '1'\n",
            "Predicted = '1' actual = '1'\n",
            "Predicted = '1' actual = '1'\n",
            "Predicted = '1' actual = '1'\n",
            "Predicted = '1' actual = '1'\n",
            "Predicted = '1' actual = '1'\n",
            "Predicted = '1' actual = '1'\n",
            "Predicted = '2' actual = '2'\n",
            "Predicted = '2' actual = '2'\n",
            "Predicted = '2' actual = '2'\n",
            "Predicted = '2' actual = '2'\n",
            "Predicted = '2' actual = '2'\n",
            "Predicted = '2' actual = '2'\n",
            "Predicted = '2' actual = '2'\n",
            "Predicted = '2' actual = '2'\n",
            "Predicted = '2' actual = '2'\n",
            "Predicted = '3' actual = '2'\n",
            "Predicted = '2' actual = '2'\n",
            "Predicted = '2' actual = '2'\n",
            "Predicted = '2' actual = '2'\n",
            "Predicted = '2' actual = '2'\n",
            "Predicted = '2' actual = '2'\n",
            "Predicted = '2' actual = '2'\n",
            "Predicted = '2' actual = '2'\n",
            "Predicted = '3' actual = '3'\n",
            "Predicted = '3' actual = '3'\n",
            "Predicted = '3' actual = '3'\n",
            "Predicted = '3' actual = '3'\n",
            "Predicted = '3' actual = '3'\n",
            "Predicted = '3' actual = '3'\n",
            "Predicted = '3' actual = '3'\n",
            "Predicted = '3' actual = '3'\n",
            "Predicted = '3' actual = '3'\n",
            "Predicted = '3' actual = '3'\n",
            "accuracy =  97.72727272727273 %\n"
          ],
          "name": "stdout"
        }
      ]
    },
    {
      "cell_type": "code",
      "metadata": {
        "id": "5pSUqdQvNgWW"
      },
      "source": [
        ""
      ],
      "execution_count": null,
      "outputs": []
    }
  ]
}