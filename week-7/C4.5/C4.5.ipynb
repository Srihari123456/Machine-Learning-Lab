{
 "cells": [
  {
   "cell_type": "code",
   "execution_count": 1,
   "metadata": {},
   "outputs": [
    {
     "name": "stdout",
     "output_type": "stream",
     "text": [
      "Accuracy: 0.9466666666666667\n",
      "<?xml version=\"1.0\" ?>\r\n",
      "<DecisionTree>\r\n",
      "\t<petallengthcm value=\"3.3\" flag=\"l\" p=\"0.32\">0</petallengthcm>\r\n",
      "\t<petallengthcm value=\"3.3\" flag=\"r\" p=\"0.68\">\r\n",
      "\t\t<petalwidthcm value=\"1.7\" flag=\"l\" p=\"0.529\">\r\n",
      "\t\t\t<petallengthcm value=\"5.1\" flag=\"l\" p=\"0.926\">1</petallengthcm>\r\n",
      "\t\t\t<petallengthcm value=\"5.1\" flag=\"r\" p=\"0.074\">2</petallengthcm>\r\n",
      "\t\t</petalwidthcm>\r\n",
      "\t\t<petalwidthcm value=\"1.7\" flag=\"r\" p=\"0.471\">\r\n",
      "\t\t\t<petallengthcm value=\"4.9\" flag=\"l\" p=\"0.125\">\r\n",
      "\t\t\t\t<sepalwidthcm value=\"3.2\" flag=\"l\" p=\"0.667\">2</sepalwidthcm>\r\n",
      "\t\t\t\t<sepalwidthcm value=\"3.2\" flag=\"r\" p=\"0.333\">1</sepalwidthcm>\r\n",
      "\t\t\t</petallengthcm>\r\n",
      "\t\t\t<petallengthcm value=\"4.9\" flag=\"r\" p=\"0.875\">2</petallengthcm>\r\n",
      "\t\t</petalwidthcm>\r\n",
      "\t</petallengthcm>\r\n",
      "</DecisionTree>\r\n",
      "\n"
     ]
    }
   ],
   "source": [
    "from sklearn.datasets import load_iris\n",
    "from sklearn.model_selection import train_test_split\n",
    "from c45 import C45\n",
    "\n",
    "iris = load_iris()\n",
    "clf = C45(attrNames=iris.feature_names)\n",
    "X_train, X_test, y_train, y_test = train_test_split(iris.data, iris.target, test_size=0.5)\n",
    "clf.fit(X_train, y_train)\n",
    "print(f'Accuracy: {clf.score(X_test, y_test)}')\n",
    "clf.printTree()"
   ]
  },
  {
   "cell_type": "code",
   "execution_count": null,
   "metadata": {},
   "outputs": [],
   "source": []
  }
 ],
 "metadata": {
  "kernelspec": {
   "display_name": "Python 3",
   "language": "python",
   "name": "python3"
  },
  "language_info": {
   "codemirror_mode": {
    "name": "ipython",
    "version": 3
   },
   "file_extension": ".py",
   "mimetype": "text/x-python",
   "name": "python",
   "nbconvert_exporter": "python",
   "pygments_lexer": "ipython3",
   "version": "3.8.5"
  }
 },
 "nbformat": 4,
 "nbformat_minor": 4
}
