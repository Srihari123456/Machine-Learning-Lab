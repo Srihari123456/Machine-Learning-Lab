{
  "nbformat": 4,
  "nbformat_minor": 0,
  "metadata": {
    "kernelspec": {
      "display_name": "Python 3",
      "language": "python",
      "name": "python3"
    },
    "language_info": {
      "name": "python",
      "version": "3.6.5",
      "mimetype": "text/x-python",
      "codemirror_mode": {
        "name": "ipython",
        "version": 3
      },
      "pygments_lexer": "ipython3",
      "nbconvert_exporter": "python",
      "file_extension": ".py"
    },
    "colab": {
      "name": "DecisionTree-MNIST.ipynb",
      "provenance": []
    }
  },
  "cells": [
    {
      "cell_type": "markdown",
      "metadata": {
        "_cell_guid": "8dcfac4b-7fa8-4040-af18-288d77b80d48",
        "_uuid": "4e907de735ee0b03e05c1995287ed4a5d8187930",
        "id": "Br1cNio6TM7A"
      },
      "source": [
        "Trying out Decision Trees with Scikit, Script-Score 0.84100"
      ]
    },
    {
      "cell_type": "code",
      "metadata": {
        "colab": {
          "base_uri": "https://localhost:8080/"
        },
        "id": "zBu5-w-iTQ-Z",
        "outputId": "ee6dd177-a868-462d-d5d8-3919be6bc7ee"
      },
      "source": [
        "from google.colab import drive\n",
        "drive.mount('/content/drive')"
      ],
      "execution_count": null,
      "outputs": [
        {
          "output_type": "stream",
          "text": [
            "Mounted at /content/drive\n"
          ],
          "name": "stdout"
        }
      ]
    },
    {
      "cell_type": "code",
      "metadata": {
        "_cell_guid": "b1076dfc-b9ad-4769-8c92-a6c4dae69d19",
        "_uuid": "8f2839f25d086af736a60e9eeb907d3b93b6e0e5",
        "trusted": false,
        "collapsed": true,
        "colab": {
          "base_uri": "https://localhost:8080/"
        },
        "id": "LAfAz4RdTM7O",
        "outputId": "89123e13-2b7a-4a04-f7d5-eae3ba17ed1a"
      },
      "source": [
        "\n",
        "\n",
        "import numpy as np # linear algebra\n",
        "import pandas as pd # data processing, CSV file I/O (e.g. pd.read_csv)\n",
        "from sklearn import metrics\n",
        "from sklearn.model_selection import train_test_split\n",
        "from sklearn import tree\n",
        "\n",
        "\n",
        "import os\n",
        "print(os.listdir(\"/content/drive/MyDrive\"))\n",
        "\n",
        "# Any results you write to the current directory are saved as output.\n",
        "\n",
        "\n",
        "df_train = pd.read_csv(\"/content/drive/MyDrive/mnist_train.csv\")\n",
        "df_test = pd.read_csv(\"/content/drive/MyDrive/mnist_test.csv\")\n",
        "\n",
        "print(df_train.shape)\n",
        "print(df_test.shape)"
      ],
      "execution_count": null,
      "outputs": [
        {
          "output_type": "stream",
          "text": [
            "['JavaScript and JQuery Interactive Front-End Web Development.pdf', 'A1 Goethe Prüfung', 'MARKETING MANIAQUESTIONS.gdoc', 'Maths', 'hangmancpp.gdoc', 'Colab Notebooks', 'Assessment v1', 'GuviCertification - 9fZ5458a2N1n1T2757 machinelearning.pdf', 'GuviCertification - 22M78537513cQ1S947python.pdf', 'WORDITOUT.gdoc', 'Screenshot_2020-02-18-21-52-45-266_com.google.android.apps.photos.jpg', 'srihari.pdf', 'srihari_resume (1).pdf', 'pass.jpg', 'ANDREW_NG_ML.zip', 'sem3.zip', 'Song1.zip', 'SRFP-Four-week report-2020.pdf', 'SRFP-Four-week report-2020.gdoc', 'srihariresume (1).pdf', 'IASC-COMPLETION', 'CitiInterns - CEG-CSE2020.gsheet', 'resume.pdf', 'srihariresume.pdf', 'Internship-Preparations', 'online_certificates', 'SUMMER-VACATION2020', 'srihari.jpg', 'Untitled form.gform', 'Untitled form (Responses).gsheet', 'research-paper.gdoc', 'OpenCV_AlgorithmUnlock.zip', 'srihari.zip', 'srihari_resume.pdf', 'CIP_Project_Retry', 'CIP_Project', '.ipynb_checkpoints', 'Sherlock Holmes ACM Techfiesta 2021.gform', 'Sherlock Holmes ACM Techfiesta 2021 (Responses).gsheet', 'mnist_test.csv', '27_DesignDocumentation_ML (1).gdoc', 'CIP-UI-Design.gjam', 'BigData-Assignment1.gdoc', 'P_3601.pdf', 'test.csv', 'train.csv', 'mnist_train.csv', '27_DesignDocumentation_ML.gdoc', 'BigData-4(i).gdoc', 'APS_Research_Paper.gdoc', '22_GAN_40%Implementation.gdoc', '22_GAN_70%Implementation.gdoc', 'ChaosTheory.gslides', 'APS_IJSDR_Paper.gdoc', 'netflix_titles.csv']\n",
            "(60000, 785)\n",
            "(9999, 785)\n"
          ],
          "name": "stdout"
        }
      ]
    },
    {
      "cell_type": "code",
      "metadata": {
        "colab": {
          "base_uri": "https://localhost:8080/",
          "height": 244
        },
        "id": "tM7gS2wnUGd2",
        "outputId": "6861c06d-50da-4149-d9f2-4f6f36c2f40d"
      },
      "source": [
        "df_train.head()"
      ],
      "execution_count": null,
      "outputs": [
        {
          "output_type": "execute_result",
          "data": {
            "text/html": [
              "<div>\n",
              "<style scoped>\n",
              "    .dataframe tbody tr th:only-of-type {\n",
              "        vertical-align: middle;\n",
              "    }\n",
              "\n",
              "    .dataframe tbody tr th {\n",
              "        vertical-align: top;\n",
              "    }\n",
              "\n",
              "    .dataframe thead th {\n",
              "        text-align: right;\n",
              "    }\n",
              "</style>\n",
              "<table border=\"1\" class=\"dataframe\">\n",
              "  <thead>\n",
              "    <tr style=\"text-align: right;\">\n",
              "      <th></th>\n",
              "      <th>label</th>\n",
              "      <th>1x1</th>\n",
              "      <th>1x2</th>\n",
              "      <th>1x3</th>\n",
              "      <th>1x4</th>\n",
              "      <th>1x5</th>\n",
              "      <th>1x6</th>\n",
              "      <th>1x7</th>\n",
              "      <th>1x8</th>\n",
              "      <th>1x9</th>\n",
              "      <th>1x10</th>\n",
              "      <th>1x11</th>\n",
              "      <th>1x12</th>\n",
              "      <th>1x13</th>\n",
              "      <th>1x14</th>\n",
              "      <th>1x15</th>\n",
              "      <th>1x16</th>\n",
              "      <th>1x17</th>\n",
              "      <th>1x18</th>\n",
              "      <th>1x19</th>\n",
              "      <th>1x20</th>\n",
              "      <th>1x21</th>\n",
              "      <th>1x22</th>\n",
              "      <th>1x23</th>\n",
              "      <th>1x24</th>\n",
              "      <th>1x25</th>\n",
              "      <th>1x26</th>\n",
              "      <th>1x27</th>\n",
              "      <th>1x28</th>\n",
              "      <th>2x1</th>\n",
              "      <th>2x2</th>\n",
              "      <th>2x3</th>\n",
              "      <th>2x4</th>\n",
              "      <th>2x5</th>\n",
              "      <th>2x6</th>\n",
              "      <th>2x7</th>\n",
              "      <th>2x8</th>\n",
              "      <th>2x9</th>\n",
              "      <th>2x10</th>\n",
              "      <th>2x11</th>\n",
              "      <th>...</th>\n",
              "      <th>27x17</th>\n",
              "      <th>27x18</th>\n",
              "      <th>27x19</th>\n",
              "      <th>27x20</th>\n",
              "      <th>27x21</th>\n",
              "      <th>27x22</th>\n",
              "      <th>27x23</th>\n",
              "      <th>27x24</th>\n",
              "      <th>27x25</th>\n",
              "      <th>27x26</th>\n",
              "      <th>27x27</th>\n",
              "      <th>27x28</th>\n",
              "      <th>28x1</th>\n",
              "      <th>28x2</th>\n",
              "      <th>28x3</th>\n",
              "      <th>28x4</th>\n",
              "      <th>28x5</th>\n",
              "      <th>28x6</th>\n",
              "      <th>28x7</th>\n",
              "      <th>28x8</th>\n",
              "      <th>28x9</th>\n",
              "      <th>28x10</th>\n",
              "      <th>28x11</th>\n",
              "      <th>28x12</th>\n",
              "      <th>28x13</th>\n",
              "      <th>28x14</th>\n",
              "      <th>28x15</th>\n",
              "      <th>28x16</th>\n",
              "      <th>28x17</th>\n",
              "      <th>28x18</th>\n",
              "      <th>28x19</th>\n",
              "      <th>28x20</th>\n",
              "      <th>28x21</th>\n",
              "      <th>28x22</th>\n",
              "      <th>28x23</th>\n",
              "      <th>28x24</th>\n",
              "      <th>28x25</th>\n",
              "      <th>28x26</th>\n",
              "      <th>28x27</th>\n",
              "      <th>28x28</th>\n",
              "    </tr>\n",
              "  </thead>\n",
              "  <tbody>\n",
              "    <tr>\n",
              "      <th>0</th>\n",
              "      <td>5</td>\n",
              "      <td>0</td>\n",
              "      <td>0</td>\n",
              "      <td>0</td>\n",
              "      <td>0</td>\n",
              "      <td>0</td>\n",
              "      <td>0</td>\n",
              "      <td>0</td>\n",
              "      <td>0</td>\n",
              "      <td>0</td>\n",
              "      <td>0</td>\n",
              "      <td>0</td>\n",
              "      <td>0</td>\n",
              "      <td>0</td>\n",
              "      <td>0</td>\n",
              "      <td>0</td>\n",
              "      <td>0</td>\n",
              "      <td>0</td>\n",
              "      <td>0</td>\n",
              "      <td>0</td>\n",
              "      <td>0</td>\n",
              "      <td>0</td>\n",
              "      <td>0</td>\n",
              "      <td>0</td>\n",
              "      <td>0</td>\n",
              "      <td>0</td>\n",
              "      <td>0</td>\n",
              "      <td>0</td>\n",
              "      <td>0</td>\n",
              "      <td>0</td>\n",
              "      <td>0</td>\n",
              "      <td>0</td>\n",
              "      <td>0</td>\n",
              "      <td>0</td>\n",
              "      <td>0</td>\n",
              "      <td>0</td>\n",
              "      <td>0</td>\n",
              "      <td>0</td>\n",
              "      <td>0</td>\n",
              "      <td>0</td>\n",
              "      <td>...</td>\n",
              "      <td>0</td>\n",
              "      <td>0</td>\n",
              "      <td>0</td>\n",
              "      <td>0</td>\n",
              "      <td>0</td>\n",
              "      <td>0</td>\n",
              "      <td>0</td>\n",
              "      <td>0</td>\n",
              "      <td>0</td>\n",
              "      <td>0</td>\n",
              "      <td>0</td>\n",
              "      <td>0</td>\n",
              "      <td>0</td>\n",
              "      <td>0</td>\n",
              "      <td>0</td>\n",
              "      <td>0</td>\n",
              "      <td>0</td>\n",
              "      <td>0</td>\n",
              "      <td>0</td>\n",
              "      <td>0</td>\n",
              "      <td>0</td>\n",
              "      <td>0</td>\n",
              "      <td>0</td>\n",
              "      <td>0</td>\n",
              "      <td>0</td>\n",
              "      <td>0</td>\n",
              "      <td>0</td>\n",
              "      <td>0</td>\n",
              "      <td>0</td>\n",
              "      <td>0</td>\n",
              "      <td>0</td>\n",
              "      <td>0</td>\n",
              "      <td>0</td>\n",
              "      <td>0</td>\n",
              "      <td>0</td>\n",
              "      <td>0</td>\n",
              "      <td>0</td>\n",
              "      <td>0</td>\n",
              "      <td>0</td>\n",
              "      <td>0</td>\n",
              "    </tr>\n",
              "    <tr>\n",
              "      <th>1</th>\n",
              "      <td>0</td>\n",
              "      <td>0</td>\n",
              "      <td>0</td>\n",
              "      <td>0</td>\n",
              "      <td>0</td>\n",
              "      <td>0</td>\n",
              "      <td>0</td>\n",
              "      <td>0</td>\n",
              "      <td>0</td>\n",
              "      <td>0</td>\n",
              "      <td>0</td>\n",
              "      <td>0</td>\n",
              "      <td>0</td>\n",
              "      <td>0</td>\n",
              "      <td>0</td>\n",
              "      <td>0</td>\n",
              "      <td>0</td>\n",
              "      <td>0</td>\n",
              "      <td>0</td>\n",
              "      <td>0</td>\n",
              "      <td>0</td>\n",
              "      <td>0</td>\n",
              "      <td>0</td>\n",
              "      <td>0</td>\n",
              "      <td>0</td>\n",
              "      <td>0</td>\n",
              "      <td>0</td>\n",
              "      <td>0</td>\n",
              "      <td>0</td>\n",
              "      <td>0</td>\n",
              "      <td>0</td>\n",
              "      <td>0</td>\n",
              "      <td>0</td>\n",
              "      <td>0</td>\n",
              "      <td>0</td>\n",
              "      <td>0</td>\n",
              "      <td>0</td>\n",
              "      <td>0</td>\n",
              "      <td>0</td>\n",
              "      <td>0</td>\n",
              "      <td>...</td>\n",
              "      <td>0</td>\n",
              "      <td>0</td>\n",
              "      <td>0</td>\n",
              "      <td>0</td>\n",
              "      <td>0</td>\n",
              "      <td>0</td>\n",
              "      <td>0</td>\n",
              "      <td>0</td>\n",
              "      <td>0</td>\n",
              "      <td>0</td>\n",
              "      <td>0</td>\n",
              "      <td>0</td>\n",
              "      <td>0</td>\n",
              "      <td>0</td>\n",
              "      <td>0</td>\n",
              "      <td>0</td>\n",
              "      <td>0</td>\n",
              "      <td>0</td>\n",
              "      <td>0</td>\n",
              "      <td>0</td>\n",
              "      <td>0</td>\n",
              "      <td>0</td>\n",
              "      <td>0</td>\n",
              "      <td>0</td>\n",
              "      <td>0</td>\n",
              "      <td>0</td>\n",
              "      <td>0</td>\n",
              "      <td>0</td>\n",
              "      <td>0</td>\n",
              "      <td>0</td>\n",
              "      <td>0</td>\n",
              "      <td>0</td>\n",
              "      <td>0</td>\n",
              "      <td>0</td>\n",
              "      <td>0</td>\n",
              "      <td>0</td>\n",
              "      <td>0</td>\n",
              "      <td>0</td>\n",
              "      <td>0</td>\n",
              "      <td>0</td>\n",
              "    </tr>\n",
              "    <tr>\n",
              "      <th>2</th>\n",
              "      <td>4</td>\n",
              "      <td>0</td>\n",
              "      <td>0</td>\n",
              "      <td>0</td>\n",
              "      <td>0</td>\n",
              "      <td>0</td>\n",
              "      <td>0</td>\n",
              "      <td>0</td>\n",
              "      <td>0</td>\n",
              "      <td>0</td>\n",
              "      <td>0</td>\n",
              "      <td>0</td>\n",
              "      <td>0</td>\n",
              "      <td>0</td>\n",
              "      <td>0</td>\n",
              "      <td>0</td>\n",
              "      <td>0</td>\n",
              "      <td>0</td>\n",
              "      <td>0</td>\n",
              "      <td>0</td>\n",
              "      <td>0</td>\n",
              "      <td>0</td>\n",
              "      <td>0</td>\n",
              "      <td>0</td>\n",
              "      <td>0</td>\n",
              "      <td>0</td>\n",
              "      <td>0</td>\n",
              "      <td>0</td>\n",
              "      <td>0</td>\n",
              "      <td>0</td>\n",
              "      <td>0</td>\n",
              "      <td>0</td>\n",
              "      <td>0</td>\n",
              "      <td>0</td>\n",
              "      <td>0</td>\n",
              "      <td>0</td>\n",
              "      <td>0</td>\n",
              "      <td>0</td>\n",
              "      <td>0</td>\n",
              "      <td>0</td>\n",
              "      <td>...</td>\n",
              "      <td>0</td>\n",
              "      <td>0</td>\n",
              "      <td>0</td>\n",
              "      <td>0</td>\n",
              "      <td>0</td>\n",
              "      <td>0</td>\n",
              "      <td>0</td>\n",
              "      <td>0</td>\n",
              "      <td>0</td>\n",
              "      <td>0</td>\n",
              "      <td>0</td>\n",
              "      <td>0</td>\n",
              "      <td>0</td>\n",
              "      <td>0</td>\n",
              "      <td>0</td>\n",
              "      <td>0</td>\n",
              "      <td>0</td>\n",
              "      <td>0</td>\n",
              "      <td>0</td>\n",
              "      <td>0</td>\n",
              "      <td>0</td>\n",
              "      <td>0</td>\n",
              "      <td>0</td>\n",
              "      <td>0</td>\n",
              "      <td>0</td>\n",
              "      <td>0</td>\n",
              "      <td>0</td>\n",
              "      <td>0</td>\n",
              "      <td>0</td>\n",
              "      <td>0</td>\n",
              "      <td>0</td>\n",
              "      <td>0</td>\n",
              "      <td>0</td>\n",
              "      <td>0</td>\n",
              "      <td>0</td>\n",
              "      <td>0</td>\n",
              "      <td>0</td>\n",
              "      <td>0</td>\n",
              "      <td>0</td>\n",
              "      <td>0</td>\n",
              "    </tr>\n",
              "    <tr>\n",
              "      <th>3</th>\n",
              "      <td>1</td>\n",
              "      <td>0</td>\n",
              "      <td>0</td>\n",
              "      <td>0</td>\n",
              "      <td>0</td>\n",
              "      <td>0</td>\n",
              "      <td>0</td>\n",
              "      <td>0</td>\n",
              "      <td>0</td>\n",
              "      <td>0</td>\n",
              "      <td>0</td>\n",
              "      <td>0</td>\n",
              "      <td>0</td>\n",
              "      <td>0</td>\n",
              "      <td>0</td>\n",
              "      <td>0</td>\n",
              "      <td>0</td>\n",
              "      <td>0</td>\n",
              "      <td>0</td>\n",
              "      <td>0</td>\n",
              "      <td>0</td>\n",
              "      <td>0</td>\n",
              "      <td>0</td>\n",
              "      <td>0</td>\n",
              "      <td>0</td>\n",
              "      <td>0</td>\n",
              "      <td>0</td>\n",
              "      <td>0</td>\n",
              "      <td>0</td>\n",
              "      <td>0</td>\n",
              "      <td>0</td>\n",
              "      <td>0</td>\n",
              "      <td>0</td>\n",
              "      <td>0</td>\n",
              "      <td>0</td>\n",
              "      <td>0</td>\n",
              "      <td>0</td>\n",
              "      <td>0</td>\n",
              "      <td>0</td>\n",
              "      <td>0</td>\n",
              "      <td>...</td>\n",
              "      <td>0</td>\n",
              "      <td>0</td>\n",
              "      <td>0</td>\n",
              "      <td>0</td>\n",
              "      <td>0</td>\n",
              "      <td>0</td>\n",
              "      <td>0</td>\n",
              "      <td>0</td>\n",
              "      <td>0</td>\n",
              "      <td>0</td>\n",
              "      <td>0</td>\n",
              "      <td>0</td>\n",
              "      <td>0</td>\n",
              "      <td>0</td>\n",
              "      <td>0</td>\n",
              "      <td>0</td>\n",
              "      <td>0</td>\n",
              "      <td>0</td>\n",
              "      <td>0</td>\n",
              "      <td>0</td>\n",
              "      <td>0</td>\n",
              "      <td>0</td>\n",
              "      <td>0</td>\n",
              "      <td>0</td>\n",
              "      <td>0</td>\n",
              "      <td>0</td>\n",
              "      <td>0</td>\n",
              "      <td>0</td>\n",
              "      <td>0</td>\n",
              "      <td>0</td>\n",
              "      <td>0</td>\n",
              "      <td>0</td>\n",
              "      <td>0</td>\n",
              "      <td>0</td>\n",
              "      <td>0</td>\n",
              "      <td>0</td>\n",
              "      <td>0</td>\n",
              "      <td>0</td>\n",
              "      <td>0</td>\n",
              "      <td>0</td>\n",
              "    </tr>\n",
              "    <tr>\n",
              "      <th>4</th>\n",
              "      <td>9</td>\n",
              "      <td>0</td>\n",
              "      <td>0</td>\n",
              "      <td>0</td>\n",
              "      <td>0</td>\n",
              "      <td>0</td>\n",
              "      <td>0</td>\n",
              "      <td>0</td>\n",
              "      <td>0</td>\n",
              "      <td>0</td>\n",
              "      <td>0</td>\n",
              "      <td>0</td>\n",
              "      <td>0</td>\n",
              "      <td>0</td>\n",
              "      <td>0</td>\n",
              "      <td>0</td>\n",
              "      <td>0</td>\n",
              "      <td>0</td>\n",
              "      <td>0</td>\n",
              "      <td>0</td>\n",
              "      <td>0</td>\n",
              "      <td>0</td>\n",
              "      <td>0</td>\n",
              "      <td>0</td>\n",
              "      <td>0</td>\n",
              "      <td>0</td>\n",
              "      <td>0</td>\n",
              "      <td>0</td>\n",
              "      <td>0</td>\n",
              "      <td>0</td>\n",
              "      <td>0</td>\n",
              "      <td>0</td>\n",
              "      <td>0</td>\n",
              "      <td>0</td>\n",
              "      <td>0</td>\n",
              "      <td>0</td>\n",
              "      <td>0</td>\n",
              "      <td>0</td>\n",
              "      <td>0</td>\n",
              "      <td>0</td>\n",
              "      <td>...</td>\n",
              "      <td>147</td>\n",
              "      <td>252</td>\n",
              "      <td>42</td>\n",
              "      <td>0</td>\n",
              "      <td>0</td>\n",
              "      <td>0</td>\n",
              "      <td>0</td>\n",
              "      <td>0</td>\n",
              "      <td>0</td>\n",
              "      <td>0</td>\n",
              "      <td>0</td>\n",
              "      <td>0</td>\n",
              "      <td>0</td>\n",
              "      <td>0</td>\n",
              "      <td>0</td>\n",
              "      <td>0</td>\n",
              "      <td>0</td>\n",
              "      <td>0</td>\n",
              "      <td>0</td>\n",
              "      <td>0</td>\n",
              "      <td>0</td>\n",
              "      <td>0</td>\n",
              "      <td>0</td>\n",
              "      <td>0</td>\n",
              "      <td>0</td>\n",
              "      <td>0</td>\n",
              "      <td>0</td>\n",
              "      <td>0</td>\n",
              "      <td>0</td>\n",
              "      <td>0</td>\n",
              "      <td>0</td>\n",
              "      <td>0</td>\n",
              "      <td>0</td>\n",
              "      <td>0</td>\n",
              "      <td>0</td>\n",
              "      <td>0</td>\n",
              "      <td>0</td>\n",
              "      <td>0</td>\n",
              "      <td>0</td>\n",
              "      <td>0</td>\n",
              "    </tr>\n",
              "  </tbody>\n",
              "</table>\n",
              "<p>5 rows × 785 columns</p>\n",
              "</div>"
            ],
            "text/plain": [
              "   label  1x1  1x2  1x3  1x4  1x5  ...  28x23  28x24  28x25  28x26  28x27  28x28\n",
              "0      5    0    0    0    0    0  ...      0      0      0      0      0      0\n",
              "1      0    0    0    0    0    0  ...      0      0      0      0      0      0\n",
              "2      4    0    0    0    0    0  ...      0      0      0      0      0      0\n",
              "3      1    0    0    0    0    0  ...      0      0      0      0      0      0\n",
              "4      9    0    0    0    0    0  ...      0      0      0      0      0      0\n",
              "\n",
              "[5 rows x 785 columns]"
            ]
          },
          "metadata": {
            "tags": []
          },
          "execution_count": 13
        }
      ]
    },
    {
      "cell_type": "code",
      "metadata": {
        "_cell_guid": "79c7e3d0-c299-4dcb-8224-4455121ee9b0",
        "_uuid": "d629ff2d2480ee46fbb7e2d37f6b5fab8052498a",
        "_kg_hide-output": true,
        "trusted": false,
        "collapsed": true,
        "colab": {
          "base_uri": "https://localhost:8080/"
        },
        "id": "eBoFrxYWTM7S",
        "outputId": "6db8f597-1deb-41b7-be59-b97997e476d4"
      },
      "source": [
        "X = []\n",
        "y = []\n",
        "for row in df_train.iterrows() :\n",
        "    label = row[1][0] # label (the number visible in the image)\n",
        "    image = list(row[1][1:]) # image information as list, without label\n",
        "    image = np.array(image) / 255\n",
        "    X.append(image)\n",
        "    y.append(label)\n",
        "\n",
        "X = np.array(X)\n",
        "y = np.array(y)\n",
        "print(len(X))\n",
        "print(len(y))"
      ],
      "execution_count": null,
      "outputs": [
        {
          "output_type": "stream",
          "text": [
            "60000\n",
            "60000\n"
          ],
          "name": "stdout"
        }
      ]
    },
    {
      "cell_type": "code",
      "metadata": {
        "_cell_guid": "5b110da4-54d9-49cc-a04a-aba2e1b91570",
        "_uuid": "16b7b9705e4408db8be1edca5391c1a5e87921d6",
        "trusted": false,
        "collapsed": true,
        "colab": {
          "base_uri": "https://localhost:8080/"
        },
        "id": "iQjr3c6FTM7T",
        "outputId": "df95ebf4-55a5-4108-c1e4-7959eb4292c4"
      },
      "source": [
        "X_train, X_test, y_train, y_test = train_test_split(X, y, test_size=0.25, random_state=42)\n",
        "print(len(X_train), len(y_train))\n",
        "print(X_train[1].shape)"
      ],
      "execution_count": null,
      "outputs": [
        {
          "output_type": "stream",
          "text": [
            "45000 45000\n",
            "(784,)\n"
          ],
          "name": "stdout"
        }
      ]
    },
    {
      "cell_type": "code",
      "metadata": {
        "colab": {
          "base_uri": "https://localhost:8080/"
        },
        "id": "5WeTJW20WcQ3",
        "outputId": "c5fe599f-177a-4131-a24a-aae2cfbeffd8"
      },
      "source": [
        "clf = tree.DecisionTreeClassifier()\n",
        "clf = clf.fit(X_train, y_train)\n",
        "y_predt = clf.predict(X_train)\n",
        "print(y_predt[0:20], \".....\")\n",
        "print(y_train[0:20], \".....\")\n",
        "print(\"Accuracy = \",metrics.accuracy_score(y_train, y_predt)*100)"
      ],
      "execution_count": null,
      "outputs": [
        {
          "output_type": "stream",
          "text": [
            "[0 1 1 9 0 2 1 8 7 7 8 6 1 5 0 9 2 3 6 7] .....\n",
            "[0 1 1 9 0 2 1 8 7 7 8 6 1 5 0 9 2 3 6 7] .....\n",
            "Accuracy =  100.0\n"
          ],
          "name": "stdout"
        }
      ]
    },
    {
      "cell_type": "code",
      "metadata": {
        "colab": {
          "base_uri": "https://localhost:8080/"
        },
        "id": "GzPeifvv8IW4",
        "outputId": "2609c4e8-57d3-4332-ff1f-8557efb6aae1"
      },
      "source": [
        "confusion = metrics.confusion_matrix(y_true = y_train, y_pred = y_predt)\n",
        "confusion"
      ],
      "execution_count": null,
      "outputs": [
        {
          "output_type": "execute_result",
          "data": {
            "text/plain": [
              "array([[4428,    0,    0,    0,    0,    0,    0,    0,    0,    0],\n",
              "       [   0, 5093,    0,    0,    0,    0,    0,    0,    0,    0],\n",
              "       [   0,    0, 4487,    0,    0,    0,    0,    0,    0,    0],\n",
              "       [   0,    0,    0, 4613,    0,    0,    0,    0,    0,    0],\n",
              "       [   0,    0,    0,    0, 4399,    0,    0,    0,    0,    0],\n",
              "       [   0,    0,    0,    0,    0, 4038,    0,    0,    0,    0],\n",
              "       [   0,    0,    0,    0,    0,    0, 4436,    0,    0,    0],\n",
              "       [   0,    0,    0,    0,    0,    0,    0, 4630,    0,    0],\n",
              "       [   0,    0,    0,    0,    0,    0,    0,    0, 4406,    0],\n",
              "       [   0,    0,    0,    0,    0,    0,    0,    0,    0, 4470]])"
            ]
          },
          "metadata": {
            "tags": []
          },
          "execution_count": 21
        }
      ]
    },
    {
      "cell_type": "code",
      "metadata": {
        "colab": {
          "base_uri": "https://localhost:8080/"
        },
        "id": "QzoBUY4R8XNR",
        "outputId": "108c0c90-7a3d-4c31-8544-0917fc3d28f7"
      },
      "source": [
        "class_wise = metrics.classification_report(y_true = y_train, y_pred = y_predt)\n",
        "print(class_wise)"
      ],
      "execution_count": null,
      "outputs": [
        {
          "output_type": "stream",
          "text": [
            "              precision    recall  f1-score   support\n",
            "\n",
            "           0       1.00      1.00      1.00      4428\n",
            "           1       1.00      1.00      1.00      5093\n",
            "           2       1.00      1.00      1.00      4487\n",
            "           3       1.00      1.00      1.00      4613\n",
            "           4       1.00      1.00      1.00      4399\n",
            "           5       1.00      1.00      1.00      4038\n",
            "           6       1.00      1.00      1.00      4436\n",
            "           7       1.00      1.00      1.00      4630\n",
            "           8       1.00      1.00      1.00      4406\n",
            "           9       1.00      1.00      1.00      4470\n",
            "\n",
            "    accuracy                           1.00     45000\n",
            "   macro avg       1.00      1.00      1.00     45000\n",
            "weighted avg       1.00      1.00      1.00     45000\n",
            "\n"
          ],
          "name": "stdout"
        }
      ]
    },
    {
      "cell_type": "code",
      "metadata": {
        "colab": {
          "base_uri": "https://localhost:8080/"
        },
        "id": "Om7NtABAdaah",
        "outputId": "5d87487b-74b1-4f68-b075-e8772f41f461"
      },
      "source": [
        "clf"
      ],
      "execution_count": null,
      "outputs": [
        {
          "output_type": "execute_result",
          "data": {
            "text/plain": [
              "DecisionTreeClassifier(ccp_alpha=0.0, class_weight=None, criterion='gini',\n",
              "                       max_depth=None, max_features=None, max_leaf_nodes=None,\n",
              "                       min_impurity_decrease=0.0, min_impurity_split=None,\n",
              "                       min_samples_leaf=1, min_samples_split=2,\n",
              "                       min_weight_fraction_leaf=0.0, presort='deprecated',\n",
              "                       random_state=None, splitter='best')"
            ]
          },
          "metadata": {
            "tags": []
          },
          "execution_count": 23
        }
      ]
    },
    {
      "cell_type": "code",
      "metadata": {
        "id": "s7z0tTlHa1Ds"
      },
      "source": [
        "clf.criterion = 'entropy'"
      ],
      "execution_count": null,
      "outputs": []
    },
    {
      "cell_type": "code",
      "metadata": {
        "colab": {
          "base_uri": "https://localhost:8080/"
        },
        "id": "kU4EJZdwZ2lD",
        "outputId": "f7397a20-e31e-4f1a-b825-823de7d50645"
      },
      "source": [
        "clf\n",
        "clf.max_depth = 10\n",
        "clf = clf.fit(X_train, y_train)\n",
        "y_predt = clf.predict(X_train)\n",
        "print(y_predt[0:20], \".....\")\n",
        "print(y_train[0:20], \".....\")\n",
        "print(\"Accuracy = \",metrics.accuracy_score(y_train, y_predt)*100)"
      ],
      "execution_count": null,
      "outputs": [
        {
          "output_type": "stream",
          "text": [
            "[0 1 1 9 0 2 1 8 7 2 8 6 3 5 0 9 3 3 6 7] .....\n",
            "[0 1 1 9 0 2 1 8 7 7 8 6 1 5 0 9 2 3 6 7] .....\n",
            "Accuracy =  92.2\n"
          ],
          "name": "stdout"
        }
      ]
    },
    {
      "cell_type": "code",
      "metadata": {
        "colab": {
          "base_uri": "https://localhost:8080/"
        },
        "id": "L8gkVpNT_wbf",
        "outputId": "14b2a034-6442-46e9-d1d1-797030483597"
      },
      "source": [
        "confusion = metrics.confusion_matrix(y_true = y_train, y_pred = y_predt)\n",
        "confusion"
      ],
      "execution_count": null,
      "outputs": [
        {
          "output_type": "execute_result",
          "data": {
            "text/plain": [
              "array([[4305,    2,   15,    9,    8,   28,   18,    9,   26,    8],\n",
              "       [   1, 4952,   33,   19,    6,   13,    8,   20,   33,    8],\n",
              "       [  34,   18, 4106,   61,   46,   28,   35,   68,   74,   17],\n",
              "       [  17,   19,   61, 4084,   13,  189,    6,   66,   74,   84],\n",
              "       [   9,   25,   30,   14, 3926,   11,   25,   36,   48,  275],\n",
              "       [  40,   21,   16,   98,   24, 3697,   25,   11,   45,   61],\n",
              "       [  35,   33,   28,   14,   51,   61, 4152,    5,   53,    4],\n",
              "       [   4,   14,   60,   27,   40,    8,    2, 4290,   33,  152],\n",
              "       [  27,   54,   54,   52,   26,   53,   38,   24, 3982,   96],\n",
              "       [  14,   13,   19,   69,  147,   72,    1,   73,   66, 3996]])"
            ]
          },
          "metadata": {
            "tags": []
          },
          "execution_count": 46
        }
      ]
    },
    {
      "cell_type": "code",
      "metadata": {
        "colab": {
          "base_uri": "https://localhost:8080/"
        },
        "id": "04A3qY6-_wQN",
        "outputId": "b087aa75-2441-4bb7-81e0-7639dc2fed7e"
      },
      "source": [
        "class_wise = metrics.classification_report(y_true=y_train, y_pred=y_predt)\n",
        "print(class_wise)"
      ],
      "execution_count": null,
      "outputs": [
        {
          "output_type": "stream",
          "text": [
            "              precision    recall  f1-score   support\n",
            "\n",
            "           0       0.96      0.97      0.97      4428\n",
            "           1       0.96      0.97      0.97      5093\n",
            "           2       0.93      0.92      0.92      4487\n",
            "           3       0.92      0.89      0.90      4613\n",
            "           4       0.92      0.89      0.90      4399\n",
            "           5       0.89      0.92      0.90      4038\n",
            "           6       0.96      0.94      0.95      4436\n",
            "           7       0.93      0.93      0.93      4630\n",
            "           8       0.90      0.90      0.90      4406\n",
            "           9       0.85      0.89      0.87      4470\n",
            "\n",
            "    accuracy                           0.92     45000\n",
            "   macro avg       0.92      0.92      0.92     45000\n",
            "weighted avg       0.92      0.92      0.92     45000\n",
            "\n"
          ],
          "name": "stdout"
        }
      ]
    },
    {
      "cell_type": "code",
      "metadata": {
        "_cell_guid": "d465b195-46d5-44db-acca-20be342319ba",
        "_uuid": "83f70d5492c4dc586514f68d2c5b4c3c06a0cf62",
        "trusted": false,
        "collapsed": true,
        "colab": {
          "base_uri": "https://localhost:8080/"
        },
        "id": "Ks_17LdoTM7U",
        "outputId": "306ee59b-eee1-4dfc-eb3f-2b4532878e62"
      },
      "source": [
        "clf = tree.DecisionTreeClassifier()\n",
        "clf = clf.fit(X_train, y_train)\n",
        "y_pred = clf.predict(X_test)\n",
        "print(y_pred[0:20], \".....\")\n",
        "print(y_test[0:20], \".....\")\n",
        "print(metrics.accuracy_score(y_test, y_pred))"
      ],
      "execution_count": null,
      "outputs": [
        {
          "output_type": "stream",
          "text": [
            "[7 3 8 9 3 9 7 7 5 4 2 5 6 9 1 7 4 2 0 7] .....\n",
            "[7 3 8 9 3 9 7 7 5 4 2 5 6 8 1 7 4 8 0 7] .....\n",
            "0.860909090909091\n"
          ],
          "name": "stdout"
        }
      ]
    },
    {
      "cell_type": "code",
      "metadata": {
        "colab": {
          "base_uri": "https://localhost:8080/"
        },
        "id": "h896akBDd6zI",
        "outputId": "8a636d17-3c6f-4247-d479-66fb5a337153"
      },
      "source": [
        "clf.criterion = 'entropy'\n",
        "clf.max_depth = 21\n",
        "clf = clf.fit(X_train, y_train)\n",
        "y_pred = clf.predict(X_test)\n",
        "print(y_pred[0:20], \".....\")\n",
        "print(y_test[0:20], \".....\")\n",
        "print(metrics.accuracy_score(y_test, y_pred))"
      ],
      "execution_count": null,
      "outputs": [
        {
          "output_type": "stream",
          "text": [
            "[7 3 8 9 3 9 7 7 5 4 6 5 6 8 1 7 4 7 0 0] .....\n",
            "[7 3 8 9 3 9 7 7 5 4 2 5 6 8 1 7 4 8 0 7] .....\n",
            "0.8677777777777778\n"
          ],
          "name": "stdout"
        }
      ]
    },
    {
      "cell_type": "code",
      "metadata": {
        "colab": {
          "base_uri": "https://localhost:8080/"
        },
        "id": "Cm0bTwpZZ6bv",
        "outputId": "7c9dd138-1f5b-4695-8995-771f4ef97e08"
      },
      "source": [
        "clf = tree.DecisionTreeClassifier()\n",
        "clf.criterion = 'entropy'\n",
        "clf.splitter = 'best'\n",
        "clf.max_depth = 13\n",
        "clf = clf.fit(X_train, y_train)\n",
        "y_predtt = clf.predict(X_test)\n",
        "print(y_predtt[0:20], \".....\")\n",
        "print(y_test[0:20], \".....\")\n",
        "print(\"Accuracy = \",metrics.accuracy_score(y_test, y_predtt)*100)"
      ],
      "execution_count": null,
      "outputs": [
        {
          "output_type": "stream",
          "text": [
            "[7 3 8 9 3 9 7 7 5 4 4 5 6 9 1 7 4 8 0 7] .....\n",
            "[7 3 8 9 3 9 7 7 5 4 2 5 6 8 1 7 4 8 0 7] .....\n",
            "Accuracy =  87.11333333333333\n"
          ],
          "name": "stdout"
        }
      ]
    },
    {
      "cell_type": "code",
      "metadata": {
        "colab": {
          "base_uri": "https://localhost:8080/"
        },
        "id": "nUa8yp97-Xr_",
        "outputId": "3506e533-af6a-43c9-db17-476d35bf82ae"
      },
      "source": [
        "confusion = metrics.confusion_matrix(y_true = y_test, y_pred = y_predtt)\n",
        "confusion"
      ],
      "execution_count": null,
      "outputs": [
        {
          "output_type": "execute_result",
          "data": {
            "text/plain": [
              "array([[1377,    0,   17,    9,    8,   18,   35,    5,   20,    6],\n",
              "       [   1, 1598,    7,   13,    6,    7,    5,    4,    7,    1],\n",
              "       [  18,   18, 1224,   35,   20,   15,   32,   45,   50,   14],\n",
              "       [  10,   12,   43, 1262,   16,   71,   14,   25,   36,   29],\n",
              "       [   9,    5,    9,   10, 1257,   10,   26,   22,   19,   76],\n",
              "       [  23,    8,   17,   57,   14, 1155,   33,   10,   38,   28],\n",
              "       [  16,    3,   32,   10,   17,   27, 1342,    4,   28,    3],\n",
              "       [   6,   20,   47,   15,   20,    4,    2, 1482,    9,   30],\n",
              "       [  23,   29,   45,   52,   33,   39,   27,   12, 1155,   30],\n",
              "       [  12,    7,   17,   43,   89,   20,   13,   33,   30, 1215]])"
            ]
          },
          "metadata": {
            "tags": []
          },
          "execution_count": 41
        }
      ]
    },
    {
      "cell_type": "code",
      "metadata": {
        "colab": {
          "base_uri": "https://localhost:8080/"
        },
        "id": "2kxN3MqP-rlZ",
        "outputId": "3627ad3c-b1ab-45dd-f047-41aafb7dff4c"
      },
      "source": [
        "class_wise = metrics.classification_report(y_true=y_test, y_pred=y_predtt)\n",
        "print(class_wise)"
      ],
      "execution_count": null,
      "outputs": [
        {
          "output_type": "stream",
          "text": [
            "              precision    recall  f1-score   support\n",
            "\n",
            "           0       0.92      0.92      0.92      1495\n",
            "           1       0.94      0.97      0.95      1649\n",
            "           2       0.84      0.83      0.84      1471\n",
            "           3       0.84      0.83      0.83      1518\n",
            "           4       0.85      0.87      0.86      1443\n",
            "           5       0.85      0.84      0.84      1383\n",
            "           6       0.88      0.91      0.89      1482\n",
            "           7       0.90      0.91      0.90      1635\n",
            "           8       0.83      0.80      0.81      1445\n",
            "           9       0.85      0.82      0.83      1479\n",
            "\n",
            "    accuracy                           0.87     15000\n",
            "   macro avg       0.87      0.87      0.87     15000\n",
            "weighted avg       0.87      0.87      0.87     15000\n",
            "\n"
          ],
          "name": "stdout"
        }
      ]
    },
    {
      "cell_type": "code",
      "metadata": {
        "colab": {
          "base_uri": "https://localhost:8080/"
        },
        "id": "YBoVDxLEXwtW",
        "outputId": "6d75cca2-3019-46fe-b169-c120dfda63c1"
      },
      "source": [
        "clf.criterion = 'gini'\n",
        "clf.splitter = 'random'\n",
        "clf.max_depth = 18\n",
        "clf = clf.fit(X_train, y_train)\n",
        "y_pred = clf.predict(X_test)\n",
        "print(y_pred[0:20], \".....\")\n",
        "print(y_test[0:20], \".....\")\n",
        "print(metrics.accuracy_score(y_test, y_pred))"
      ],
      "execution_count": null,
      "outputs": [
        {
          "output_type": "stream",
          "text": [
            "[7 3 8 9 3 9 7 7 5 4 8 5 6 4 1 9 4 9 0 7] .....\n",
            "[7 3 8 9 3 9 7 7 5 4 2 5 6 8 1 7 4 8 0 7] .....\n",
            "0.8646464646464647\n"
          ],
          "name": "stdout"
        }
      ]
    },
    {
      "cell_type": "code",
      "metadata": {
        "colab": {
          "base_uri": "https://localhost:8080/"
        },
        "id": "4S3kllUGXwqb",
        "outputId": "bb9a7920-b728-47a0-e5b0-cd29df1e2cb9"
      },
      "source": [
        "clf.criterion = 'gini'\n",
        "clf.splitter = 'best'\n",
        "clf.max_depth = 18\n",
        "clf = clf.fit(X_train, y_train)\n",
        "y_pred = clf.predict(X_test)\n",
        "print(y_pred[0:20], \".....\")\n",
        "print(y_test[0:20], \".....\")\n",
        "print(metrics.accuracy_score(y_test, y_pred))"
      ],
      "execution_count": null,
      "outputs": [
        {
          "output_type": "stream",
          "text": [
            "[7 3 8 9 3 9 7 7 5 4 2 5 8 9 1 7 4 2 0 7] .....\n",
            "[7 3 8 9 3 9 7 7 5 4 2 5 6 8 1 7 4 8 0 7] .....\n",
            "0.8652020202020202\n"
          ],
          "name": "stdout"
        }
      ]
    }
  ]
}