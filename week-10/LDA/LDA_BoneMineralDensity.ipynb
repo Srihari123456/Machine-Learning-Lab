{
  "nbformat": 4,
  "nbformat_minor": 0,
  "metadata": {
    "colab": {
      "name": "LDA-BoneMineralDensity.ipynb",
      "provenance": [],
      "collapsed_sections": []
    },
    "kernelspec": {
      "name": "python3",
      "display_name": "Python 3"
    },
    "language_info": {
      "name": "python"
    }
  },
  "cells": [
    {
      "cell_type": "code",
      "metadata": {
        "colab": {
          "base_uri": "https://localhost:8080/",
          "height": 399
        },
        "id": "hlWvDdi_7iJI",
        "outputId": "42a95c06-62a7-4966-ee38-960da9adac07"
      },
      "source": [
        "import numpy as np\n",
        "import pandas as pd\n",
        "import matplotlib.pyplot as plt\n",
        "from sklearn.model_selection import train_test_split\n",
        "from sklearn.neighbors import KNeighborsClassifier\n",
        "#Load dataset\n",
        "n_components = 2\n",
        "data = pd.read_csv('/content/bmd.csv')\n",
        "data = data[['age','weight_kg','height_cm','bmd','fracture']]\n",
        "data"
      ],
      "execution_count": 1,
      "outputs": [
        {
          "output_type": "execute_result",
          "data": {
            "text/html": [
              "<div>\n",
              "<style scoped>\n",
              "    .dataframe tbody tr th:only-of-type {\n",
              "        vertical-align: middle;\n",
              "    }\n",
              "\n",
              "    .dataframe tbody tr th {\n",
              "        vertical-align: top;\n",
              "    }\n",
              "\n",
              "    .dataframe thead th {\n",
              "        text-align: right;\n",
              "    }\n",
              "</style>\n",
              "<table border=\"1\" class=\"dataframe\">\n",
              "  <thead>\n",
              "    <tr style=\"text-align: right;\">\n",
              "      <th></th>\n",
              "      <th>age</th>\n",
              "      <th>weight_kg</th>\n",
              "      <th>height_cm</th>\n",
              "      <th>bmd</th>\n",
              "      <th>fracture</th>\n",
              "    </tr>\n",
              "  </thead>\n",
              "  <tbody>\n",
              "    <tr>\n",
              "      <th>0</th>\n",
              "      <td>57.052768</td>\n",
              "      <td>64.0</td>\n",
              "      <td>155.5</td>\n",
              "      <td>0.8793</td>\n",
              "      <td>no fracture</td>\n",
              "    </tr>\n",
              "    <tr>\n",
              "      <th>1</th>\n",
              "      <td>75.741225</td>\n",
              "      <td>78.0</td>\n",
              "      <td>162.0</td>\n",
              "      <td>0.7946</td>\n",
              "      <td>no fracture</td>\n",
              "    </tr>\n",
              "    <tr>\n",
              "      <th>2</th>\n",
              "      <td>70.778900</td>\n",
              "      <td>73.0</td>\n",
              "      <td>170.5</td>\n",
              "      <td>0.9067</td>\n",
              "      <td>no fracture</td>\n",
              "    </tr>\n",
              "    <tr>\n",
              "      <th>3</th>\n",
              "      <td>78.247175</td>\n",
              "      <td>60.0</td>\n",
              "      <td>148.0</td>\n",
              "      <td>0.7112</td>\n",
              "      <td>no fracture</td>\n",
              "    </tr>\n",
              "    <tr>\n",
              "      <th>4</th>\n",
              "      <td>54.191877</td>\n",
              "      <td>55.0</td>\n",
              "      <td>161.0</td>\n",
              "      <td>0.7909</td>\n",
              "      <td>no fracture</td>\n",
              "    </tr>\n",
              "    <tr>\n",
              "      <th>...</th>\n",
              "      <td>...</td>\n",
              "      <td>...</td>\n",
              "      <td>...</td>\n",
              "      <td>...</td>\n",
              "      <td>...</td>\n",
              "    </tr>\n",
              "    <tr>\n",
              "      <th>164</th>\n",
              "      <td>77.982543</td>\n",
              "      <td>74.0</td>\n",
              "      <td>164.0</td>\n",
              "      <td>0.7941</td>\n",
              "      <td>fracture</td>\n",
              "    </tr>\n",
              "    <tr>\n",
              "      <th>165</th>\n",
              "      <td>50.285303</td>\n",
              "      <td>59.0</td>\n",
              "      <td>161.0</td>\n",
              "      <td>0.7971</td>\n",
              "      <td>fracture</td>\n",
              "    </tr>\n",
              "    <tr>\n",
              "      <th>166</th>\n",
              "      <td>46.359721</td>\n",
              "      <td>67.0</td>\n",
              "      <td>169.0</td>\n",
              "      <td>0.8037</td>\n",
              "      <td>fracture</td>\n",
              "    </tr>\n",
              "    <tr>\n",
              "      <th>167</th>\n",
              "      <td>54.788368</td>\n",
              "      <td>70.0</td>\n",
              "      <td>166.0</td>\n",
              "      <td>0.8072</td>\n",
              "      <td>fracture</td>\n",
              "    </tr>\n",
              "    <tr>\n",
              "      <th>168</th>\n",
              "      <td>69.994822</td>\n",
              "      <td>68.5</td>\n",
              "      <td>165.0</td>\n",
              "      <td>0.8664</td>\n",
              "      <td>fracture</td>\n",
              "    </tr>\n",
              "  </tbody>\n",
              "</table>\n",
              "<p>169 rows × 5 columns</p>\n",
              "</div>"
            ],
            "text/plain": [
              "           age  weight_kg  height_cm     bmd     fracture\n",
              "0    57.052768       64.0      155.5  0.8793  no fracture\n",
              "1    75.741225       78.0      162.0  0.7946  no fracture\n",
              "2    70.778900       73.0      170.5  0.9067  no fracture\n",
              "3    78.247175       60.0      148.0  0.7112  no fracture\n",
              "4    54.191877       55.0      161.0  0.7909  no fracture\n",
              "..         ...        ...        ...     ...          ...\n",
              "164  77.982543       74.0      164.0  0.7941     fracture\n",
              "165  50.285303       59.0      161.0  0.7971     fracture\n",
              "166  46.359721       67.0      169.0  0.8037     fracture\n",
              "167  54.788368       70.0      166.0  0.8072     fracture\n",
              "168  69.994822       68.5      165.0  0.8664     fracture\n",
              "\n",
              "[169 rows x 5 columns]"
            ]
          },
          "metadata": {
            "tags": []
          },
          "execution_count": 1
        }
      ]
    },
    {
      "cell_type": "code",
      "metadata": {
        "colab": {
          "base_uri": "https://localhost:8080/"
        },
        "id": "9Ur9ReWI7mmX",
        "outputId": "1a6a6c03-2e39-49cc-f7e5-bed9d97355e8"
      },
      "source": [
        "#Normalizing the attributes and encoding labels\n",
        "from sklearn.preprocessing import StandardScaler\n",
        "stdsc = StandardScaler()\n",
        "X_train_std = stdsc.fit_transform(data.iloc[:,range(0,4)].values)\n",
        "from sklearn.preprocessing import LabelEncoder\n",
        "class_le = LabelEncoder()\n",
        "y = class_le.fit_transform(data['fracture'].values)\n",
        "#Between class variance\n",
        "S_W = np.zeros((4,4))\n",
        "for i in range(2):\n",
        "    S_W += np.cov(X_train_std[y==i].T)\n",
        "S_W"
      ],
      "execution_count": 2,
      "outputs": [
        {
          "output_type": "execute_result",
          "data": {
            "text/plain": [
              "array([[ 1.9725685 , -0.04759746, -0.42736814, -0.30524193],\n",
              "       [-0.04759746,  1.78794962,  0.71452081,  0.59460869],\n",
              "       [-0.42736814,  0.71452081,  2.03028906,  0.56144434],\n",
              "       [-0.30524193,  0.59460869,  0.56144434,  1.0964439 ]])"
            ]
          },
          "metadata": {
            "tags": []
          },
          "execution_count": 2
        }
      ]
    },
    {
      "cell_type": "code",
      "metadata": {
        "colab": {
          "base_uri": "https://localhost:8080/"
        },
        "id": "aagG7l-07p-0",
        "outputId": "44779624-ba35-4129-a84d-17191a296dbb"
      },
      "source": [
        "#Distance between mean and sample of class\n",
        "N=np.bincount(y)\n",
        "vecs=[]\n",
        "[vecs.append(np.mean(X_train_std[y==i],axis=0)) for i in range(2)]\n",
        "mean_overall = np.mean(X_train_std, axis=0)\n",
        "S_B=np.zeros((4,4))\n",
        "for i in range(2):\n",
        "    S_B += N[i]*(((vecs[i]-mean_overall).reshape(4,1)).dot(((vecs[i]-mean_overall).reshape(1,4))))\n",
        "S_B #Display eigen values"
      ],
      "execution_count": 3,
      "outputs": [
        {
          "output_type": "execute_result",
          "data": {
            "text/plain": [
              "array([[ 17.63488395, -19.24443281,  -4.31743302, -34.05701777],\n",
              "       [-19.24443281,  21.00088638,   4.71148831,  37.16542689],\n",
              "       [ -4.31743302,   4.71148831,   1.05700882,   8.33795637],\n",
              "       [-34.05701777,  37.16542689,   8.33795637,  65.77193605]])"
            ]
          },
          "metadata": {
            "tags": []
          },
          "execution_count": 3
        }
      ]
    },
    {
      "cell_type": "code",
      "metadata": {
        "colab": {
          "base_uri": "https://localhost:8080/"
        },
        "id": "E5Zz3MJb7xBL",
        "outputId": "14caeb5e-a61b-49ee-b904-e1a8025823b7"
      },
      "source": [
        "eigen_vals, eigen_vecs = np.linalg.eig(np.linalg.inv(S_W).dot(S_B))\n",
        "eigen_pairs = [(np.abs(eigen_vals[i]), eigen_vecs[:,i]) for i in range(len(eigen_vals))]\n",
        "eigen_pairs = sorted(eigen_pairs,key=lambda k: k[0], reverse=True)\n",
        "print('Eigenvalues in decreasing order:\\n')\n",
        "for eigen_val in eigen_pairs:\n",
        "    print(eigen_val[0])"
      ],
      "execution_count": 4,
      "outputs": [
        {
          "output_type": "stream",
          "text": [
            "Eigenvalues in decreasing order:\n",
            "\n",
            "69.77622956845525\n",
            "2.9078998724795312e-15\n",
            "2.9078998724795312e-15\n",
            "0.0\n"
          ],
          "name": "stdout"
        }
      ]
    },
    {
      "cell_type": "code",
      "metadata": {
        "colab": {
          "base_uri": "https://localhost:8080/",
          "height": 194
        },
        "id": "ly0biBWc73Re",
        "outputId": "00d23b30-cbeb-4e27-a15c-712515d8d9f5"
      },
      "source": [
        "#Finding LD1 & LD2\n",
        "tot = sum(eigen_vals.real)\n",
        "discr = [(i / tot) for i in sorted(eigen_vals.real, reverse=True)]\n",
        "cum_discr = np.cumsum(discr)\n",
        "W=np.hstack((eigen_pairs[0][1][:,].reshape(4,1),eigen_pairs[1][1][:, ].reshape(4,1))).real\n",
        "X_train_lda = X_train_std.dot(W)\n",
        "#Adding LD1 & LD2 Value to dataframe\n",
        "data=pd.DataFrame(X_train_lda)\n",
        "data['class']=y\n",
        "data.columns=[\"LD1\",\"LD2\",\"class\"]\n",
        "data.head()"
      ],
      "execution_count": 5,
      "outputs": [
        {
          "output_type": "execute_result",
          "data": {
            "text/html": [
              "<div>\n",
              "<style scoped>\n",
              "    .dataframe tbody tr th:only-of-type {\n",
              "        vertical-align: middle;\n",
              "    }\n",
              "\n",
              "    .dataframe tbody tr th {\n",
              "        vertical-align: top;\n",
              "    }\n",
              "\n",
              "    .dataframe thead th {\n",
              "        text-align: right;\n",
              "    }\n",
              "</style>\n",
              "<table border=\"1\" class=\"dataframe\">\n",
              "  <thead>\n",
              "    <tr style=\"text-align: right;\">\n",
              "      <th></th>\n",
              "      <th>LD1</th>\n",
              "      <th>LD2</th>\n",
              "      <th>class</th>\n",
              "    </tr>\n",
              "  </thead>\n",
              "  <tbody>\n",
              "    <tr>\n",
              "      <th>0</th>\n",
              "      <td>-0.794078</td>\n",
              "      <td>0.361718</td>\n",
              "      <td>1</td>\n",
              "    </tr>\n",
              "    <tr>\n",
              "      <th>1</th>\n",
              "      <td>0.041572</td>\n",
              "      <td>-0.642138</td>\n",
              "      <td>1</td>\n",
              "    </tr>\n",
              "    <tr>\n",
              "      <th>2</th>\n",
              "      <td>-0.325557</td>\n",
              "      <td>-1.110186</td>\n",
              "      <td>1</td>\n",
              "    </tr>\n",
              "    <tr>\n",
              "      <th>3</th>\n",
              "      <td>0.233302</td>\n",
              "      <td>-0.170556</td>\n",
              "      <td>1</td>\n",
              "    </tr>\n",
              "    <tr>\n",
              "      <th>4</th>\n",
              "      <td>-0.061762</td>\n",
              "      <td>0.367884</td>\n",
              "      <td>1</td>\n",
              "    </tr>\n",
              "  </tbody>\n",
              "</table>\n",
              "</div>"
            ],
            "text/plain": [
              "        LD1       LD2  class\n",
              "0 -0.794078  0.361718      1\n",
              "1  0.041572 -0.642138      1\n",
              "2 -0.325557 -1.110186      1\n",
              "3  0.233302 -0.170556      1\n",
              "4 -0.061762  0.367884      1"
            ]
          },
          "metadata": {
            "tags": []
          },
          "execution_count": 5
        }
      ]
    },
    {
      "cell_type": "code",
      "metadata": {
        "id": "3qlYVUV-Sz9h",
        "colab": {
          "base_uri": "https://localhost:8080/",
          "height": 383
        },
        "outputId": "1d86a3e8-907f-4edc-c912-22a0562d40b4"
      },
      "source": [
        "#Visualizing the data after LDA\n",
        "import seaborn as sns\n",
        "markers = ['x','o']\n",
        "sns.lmplot(x=\"LD1\", y=\"LD2\", data=data, markers=markers,fit_reg=False, hue='class',legend=False, palette='rainbow')\n",
        "plt.legend(loc='upper center')\n",
        "plt.show()"
      ],
      "execution_count": 6,
      "outputs": [
        {
          "output_type": "display_data",
          "data": {
            "image/png": "[encoded data removed]",
            "text/plain": [
              "<Figure size 360x360 with 1 Axes>"
            ]
          },
          "metadata": {
            "tags": [],
            "needs_background": "light"
          }
        }
      ]
    },
    {
      "cell_type": "code",
      "metadata": {
        "colab": {
          "base_uri": "https://localhost:8080/"
        },
        "id": "Mv4QcSrC7--U",
        "outputId": "9da9fce6-92ac-42ff-c510-205661f4a878"
      },
      "source": [
        "#KNN Classifier\n",
        "X_train, X_test, y_train, y_test = train_test_split(data[['LD1','LD2']], data['class'],\n",
        "test_size=0.20)\n",
        "knn_lda= KNeighborsClassifier(n_neighbors=3)\n",
        "knn_lda.fit(X_train, y_train)\n",
        "y_pred = knn_lda.predict(X_test)\n",
        "print(\"Train accuracy \",knn_lda.score(X_train,y_train)*100,\"%\")\n",
        "print(\"Test accuracy \",knn_lda.score(X_test,y_test)*100,\"%\")"
      ],
      "execution_count": 9,
      "outputs": [
        {
          "output_type": "stream",
          "text": [
            "Train accuracy  90.37037037037037 %\n",
            "Test accuracy  91.17647058823529 %\n"
          ],
          "name": "stdout"
        }
      ]
    },
    {
      "cell_type": "code",
      "metadata": {
        "colab": {
          "base_uri": "https://localhost:8080/"
        },
        "id": "Yio246-D8g4m",
        "outputId": "a9d804bf-7ef1-49c4-a649-aa81b714056d"
      },
      "source": [
        "from sklearn import metrics\n",
        "knn_lda_y_pred = knn_lda.predict(X_test)\n",
        "confusion = metrics.confusion_matrix(y_true = y_test, y_pred = knn_lda_y_pred)\n",
        "print(confusion)\n",
        "class_wise = metrics.classification_report(y_true=y_test, y_pred=knn_lda_y_pred)\n",
        "print(class_wise)"
      ],
      "execution_count": 11,
      "outputs": [
        {
          "output_type": "stream",
          "text": [
            "[[11  2]\n",
            " [ 1 20]]\n",
            "              precision    recall  f1-score   support\n",
            "\n",
            "           0       0.92      0.85      0.88        13\n",
            "           1       0.91      0.95      0.93        21\n",
            "\n",
            "    accuracy                           0.91        34\n",
            "   macro avg       0.91      0.90      0.91        34\n",
            "weighted avg       0.91      0.91      0.91        34\n",
            "\n"
          ],
          "name": "stdout"
        }
      ]
    },
    {
      "cell_type": "code",
      "metadata": {
        "id": "cGtaTEhY8zr9"
      },
      "source": [
        ""
      ],
      "execution_count": null,
      "outputs": []
    }
  ]
}